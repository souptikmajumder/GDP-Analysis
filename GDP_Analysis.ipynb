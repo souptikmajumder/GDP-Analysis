{
  "nbformat": 4,
  "nbformat_minor": 0,
  "metadata": {
    "kernelspec": {
      "display_name": "Python 3",
      "language": "python",
      "name": "python3"
    },
    "language_info": {
      "codemirror_mode": {
        "name": "ipython",
        "version": 3
      },
      "file_extension": ".py",
      "mimetype": "text/x-python",
      "name": "python",
      "nbconvert_exporter": "python",
      "pygments_lexer": "ipython3",
      "version": "3.7.3"
    },
    "colab": {
      "name": "GDP Analysis.ipynb",
      "provenance": [],
      "include_colab_link": true
    }
  },
  "cells": [
    {
      "cell_type": "markdown",
      "metadata": {
        "id": "view-in-github",
        "colab_type": "text"
      },
      "source": [
        "<a href=\"https://colab.research.google.com/github/souptikmajumder/GDP-Analysis/blob/master/GDP_Analysis.ipynb\" target=\"_parent\"><img src=\"https://colab.research.google.com/assets/colab-badge.svg\" alt=\"Open In Colab\"/></a>"
      ]
    },
    {
      "cell_type": "markdown",
      "metadata": {
        "id": "zSqTqjHWvBPh",
        "colab_type": "text"
      },
      "source": [
        "<h2>Part IA</h2>"
      ]
    },
    {
      "cell_type": "code",
      "metadata": {
        "id": "tto68LU6vBPl",
        "colab_type": "code",
        "colab": {},
        "outputId": "7b2f84c8-6beb-4d57-e0c5-ae2a201a89f5"
      },
      "source": [
        "import pandas as pd\n",
        "import numpy as np\n",
        "import matplotlib.pyplot as plt\n",
        "import seaborn as sns\n",
        "import glob as glob\n",
        "import squarify\n",
        "\n",
        "df=pd.read_csv('ab40c054-5031-4376-b52e-9813e776f65e.csv') # Data I-A with original dataframe\n",
        "\n",
        "df.set_index(\"Items  Description\",inplace=True) #indexing based on Items Description\n",
        "\n",
        "df.head()\n"
      ],
      "execution_count": 0,
      "outputs": [
        {
          "output_type": "execute_result",
          "data": {
            "text/html": [
              "<div>\n",
              "<style scoped>\n",
              "    .dataframe tbody tr th:only-of-type {\n",
              "        vertical-align: middle;\n",
              "    }\n",
              "\n",
              "    .dataframe tbody tr th {\n",
              "        vertical-align: top;\n",
              "    }\n",
              "\n",
              "    .dataframe thead th {\n",
              "        text-align: right;\n",
              "    }\n",
              "</style>\n",
              "<table border=\"1\" class=\"dataframe\">\n",
              "  <thead>\n",
              "    <tr style=\"text-align: right;\">\n",
              "      <th></th>\n",
              "      <th>Duration</th>\n",
              "      <th>Andhra Pradesh</th>\n",
              "      <th>Arunachal Pradesh</th>\n",
              "      <th>Assam</th>\n",
              "      <th>Bihar</th>\n",
              "      <th>Chhattisgarh</th>\n",
              "      <th>Goa</th>\n",
              "      <th>Gujarat</th>\n",
              "      <th>Haryana</th>\n",
              "      <th>Himachal Pradesh</th>\n",
              "      <th>...</th>\n",
              "      <th>Telangana</th>\n",
              "      <th>Tripura</th>\n",
              "      <th>Uttar Pradesh</th>\n",
              "      <th>Uttarakhand</th>\n",
              "      <th>West Bengal1</th>\n",
              "      <th>Andaman &amp; Nicobar Islands</th>\n",
              "      <th>Chandigarh</th>\n",
              "      <th>Delhi</th>\n",
              "      <th>Puducherry</th>\n",
              "      <th>All_India GDP</th>\n",
              "    </tr>\n",
              "    <tr>\n",
              "      <th>Items  Description</th>\n",
              "      <th></th>\n",
              "      <th></th>\n",
              "      <th></th>\n",
              "      <th></th>\n",
              "      <th></th>\n",
              "      <th></th>\n",
              "      <th></th>\n",
              "      <th></th>\n",
              "      <th></th>\n",
              "      <th></th>\n",
              "      <th></th>\n",
              "      <th></th>\n",
              "      <th></th>\n",
              "      <th></th>\n",
              "      <th></th>\n",
              "      <th></th>\n",
              "      <th></th>\n",
              "      <th></th>\n",
              "      <th></th>\n",
              "      <th></th>\n",
              "      <th></th>\n",
              "    </tr>\n",
              "  </thead>\n",
              "  <tbody>\n",
              "    <tr>\n",
              "      <th>GSDP - CURRENT PRICES (` in Crore)</th>\n",
              "      <td>2011-12</td>\n",
              "      <td>379402.0</td>\n",
              "      <td>11063.0</td>\n",
              "      <td>143175.0</td>\n",
              "      <td>247144.0</td>\n",
              "      <td>158074.0</td>\n",
              "      <td>42367.0</td>\n",
              "      <td>615606.0</td>\n",
              "      <td>297539.0</td>\n",
              "      <td>72720.0</td>\n",
              "      <td>...</td>\n",
              "      <td>359433.0</td>\n",
              "      <td>19208.0</td>\n",
              "      <td>724049.0</td>\n",
              "      <td>115523.0</td>\n",
              "      <td>NaN</td>\n",
              "      <td>3979.0</td>\n",
              "      <td>18768.0</td>\n",
              "      <td>343767.0</td>\n",
              "      <td>16818.0</td>\n",
              "      <td>8736039.0</td>\n",
              "    </tr>\n",
              "    <tr>\n",
              "      <th>GSDP - CURRENT PRICES (` in Crore)</th>\n",
              "      <td>2012-13</td>\n",
              "      <td>411404.0</td>\n",
              "      <td>12547.0</td>\n",
              "      <td>156864.0</td>\n",
              "      <td>282368.0</td>\n",
              "      <td>177511.0</td>\n",
              "      <td>38120.0</td>\n",
              "      <td>724495.0</td>\n",
              "      <td>347032.0</td>\n",
              "      <td>82820.0</td>\n",
              "      <td>...</td>\n",
              "      <td>401493.0</td>\n",
              "      <td>21663.0</td>\n",
              "      <td>822903.0</td>\n",
              "      <td>131835.0</td>\n",
              "      <td>NaN</td>\n",
              "      <td>4421.0</td>\n",
              "      <td>21609.0</td>\n",
              "      <td>391238.0</td>\n",
              "      <td>18875.0</td>\n",
              "      <td>9946636.0</td>\n",
              "    </tr>\n",
              "    <tr>\n",
              "      <th>GSDP - CURRENT PRICES (` in Crore)</th>\n",
              "      <td>2013-14</td>\n",
              "      <td>464272.0</td>\n",
              "      <td>14602.0</td>\n",
              "      <td>177745.0</td>\n",
              "      <td>317101.0</td>\n",
              "      <td>206690.0</td>\n",
              "      <td>35921.0</td>\n",
              "      <td>807623.0</td>\n",
              "      <td>400662.0</td>\n",
              "      <td>94764.0</td>\n",
              "      <td>...</td>\n",
              "      <td>452186.0</td>\n",
              "      <td>25593.0</td>\n",
              "      <td>944146.0</td>\n",
              "      <td>149817.0</td>\n",
              "      <td>NaN</td>\n",
              "      <td>5159.0</td>\n",
              "      <td>24787.0</td>\n",
              "      <td>443783.0</td>\n",
              "      <td>21870.0</td>\n",
              "      <td>11236635.0</td>\n",
              "    </tr>\n",
              "    <tr>\n",
              "      <th>GSDP - CURRENT PRICES (` in Crore)</th>\n",
              "      <td>2014-15</td>\n",
              "      <td>526468.0</td>\n",
              "      <td>16761.0</td>\n",
              "      <td>198098.0</td>\n",
              "      <td>373920.0</td>\n",
              "      <td>234982.0</td>\n",
              "      <td>40633.0</td>\n",
              "      <td>895027.0</td>\n",
              "      <td>437462.0</td>\n",
              "      <td>104369.0</td>\n",
              "      <td>...</td>\n",
              "      <td>511178.0</td>\n",
              "      <td>29667.0</td>\n",
              "      <td>1043371.0</td>\n",
              "      <td>161985.0</td>\n",
              "      <td>NaN</td>\n",
              "      <td>5721.0</td>\n",
              "      <td>27844.0</td>\n",
              "      <td>492424.0</td>\n",
              "      <td>24089.0</td>\n",
              "      <td>12433749.0</td>\n",
              "    </tr>\n",
              "    <tr>\n",
              "      <th>GSDP - CURRENT PRICES (` in Crore)</th>\n",
              "      <td>2015-16</td>\n",
              "      <td>609934.0</td>\n",
              "      <td>18784.0</td>\n",
              "      <td>224234.0</td>\n",
              "      <td>413503.0</td>\n",
              "      <td>260776.0</td>\n",
              "      <td>45002.0</td>\n",
              "      <td>994316.0</td>\n",
              "      <td>485184.0</td>\n",
              "      <td>NaN</td>\n",
              "      <td>...</td>\n",
              "      <td>575631.0</td>\n",
              "      <td>NaN</td>\n",
              "      <td>1153795.0</td>\n",
              "      <td>184091.0</td>\n",
              "      <td>NaN</td>\n",
              "      <td>NaN</td>\n",
              "      <td>30304.0</td>\n",
              "      <td>551963.0</td>\n",
              "      <td>26533.0</td>\n",
              "      <td>13675331.0</td>\n",
              "    </tr>\n",
              "  </tbody>\n",
              "</table>\n",
              "<p>5 rows × 35 columns</p>\n",
              "</div>"
            ],
            "text/plain": [
              "                                   Duration  Andhra Pradesh   \\\n",
              "Items  Description                                             \n",
              "GSDP - CURRENT PRICES (` in Crore)  2011-12         379402.0   \n",
              "GSDP - CURRENT PRICES (` in Crore)  2012-13         411404.0   \n",
              "GSDP - CURRENT PRICES (` in Crore)  2013-14         464272.0   \n",
              "GSDP - CURRENT PRICES (` in Crore)  2014-15         526468.0   \n",
              "GSDP - CURRENT PRICES (` in Crore)  2015-16         609934.0   \n",
              "\n",
              "                                    Arunachal Pradesh     Assam     Bihar  \\\n",
              "Items  Description                                                          \n",
              "GSDP - CURRENT PRICES (` in Crore)            11063.0  143175.0  247144.0   \n",
              "GSDP - CURRENT PRICES (` in Crore)            12547.0  156864.0  282368.0   \n",
              "GSDP - CURRENT PRICES (` in Crore)            14602.0  177745.0  317101.0   \n",
              "GSDP - CURRENT PRICES (` in Crore)            16761.0  198098.0  373920.0   \n",
              "GSDP - CURRENT PRICES (` in Crore)            18784.0  224234.0  413503.0   \n",
              "\n",
              "                                    Chhattisgarh      Goa   Gujarat   Haryana  \\\n",
              "Items  Description                                                              \n",
              "GSDP - CURRENT PRICES (` in Crore)      158074.0  42367.0  615606.0  297539.0   \n",
              "GSDP - CURRENT PRICES (` in Crore)      177511.0  38120.0  724495.0  347032.0   \n",
              "GSDP - CURRENT PRICES (` in Crore)      206690.0  35921.0  807623.0  400662.0   \n",
              "GSDP - CURRENT PRICES (` in Crore)      234982.0  40633.0  895027.0  437462.0   \n",
              "GSDP - CURRENT PRICES (` in Crore)      260776.0  45002.0  994316.0  485184.0   \n",
              "\n",
              "                                    Himachal Pradesh  ...  Telangana  Tripura  \\\n",
              "Items  Description                                    ...                       \n",
              "GSDP - CURRENT PRICES (` in Crore)           72720.0  ...   359433.0  19208.0   \n",
              "GSDP - CURRENT PRICES (` in Crore)           82820.0  ...   401493.0  21663.0   \n",
              "GSDP - CURRENT PRICES (` in Crore)           94764.0  ...   452186.0  25593.0   \n",
              "GSDP - CURRENT PRICES (` in Crore)          104369.0  ...   511178.0  29667.0   \n",
              "GSDP - CURRENT PRICES (` in Crore)               NaN  ...   575631.0      NaN   \n",
              "\n",
              "                                    Uttar Pradesh  Uttarakhand  West Bengal1  \\\n",
              "Items  Description                                                             \n",
              "GSDP - CURRENT PRICES (` in Crore)       724049.0     115523.0           NaN   \n",
              "GSDP - CURRENT PRICES (` in Crore)       822903.0     131835.0           NaN   \n",
              "GSDP - CURRENT PRICES (` in Crore)       944146.0     149817.0           NaN   \n",
              "GSDP - CURRENT PRICES (` in Crore)      1043371.0     161985.0           NaN   \n",
              "GSDP - CURRENT PRICES (` in Crore)      1153795.0     184091.0           NaN   \n",
              "\n",
              "                                    Andaman & Nicobar Islands  Chandigarh  \\\n",
              "Items  Description                                                          \n",
              "GSDP - CURRENT PRICES (` in Crore)                     3979.0     18768.0   \n",
              "GSDP - CURRENT PRICES (` in Crore)                     4421.0     21609.0   \n",
              "GSDP - CURRENT PRICES (` in Crore)                     5159.0     24787.0   \n",
              "GSDP - CURRENT PRICES (` in Crore)                     5721.0     27844.0   \n",
              "GSDP - CURRENT PRICES (` in Crore)                        NaN     30304.0   \n",
              "\n",
              "                                       Delhi  Puducherry  All_India GDP  \n",
              "Items  Description                                                       \n",
              "GSDP - CURRENT PRICES (` in Crore)  343767.0     16818.0      8736039.0  \n",
              "GSDP - CURRENT PRICES (` in Crore)  391238.0     18875.0      9946636.0  \n",
              "GSDP - CURRENT PRICES (` in Crore)  443783.0     21870.0     11236635.0  \n",
              "GSDP - CURRENT PRICES (` in Crore)  492424.0     24089.0     12433749.0  \n",
              "GSDP - CURRENT PRICES (` in Crore)  551963.0     26533.0     13675331.0  \n",
              "\n",
              "[5 rows x 35 columns]"
            ]
          },
          "metadata": {
            "tags": []
          },
          "execution_count": 1
        }
      ]
    },
    {
      "cell_type": "code",
      "metadata": {
        "id": "IqJlxh0RvBPv",
        "colab_type": "code",
        "colab": {},
        "outputId": "a41606f6-e73f-46c4-9b92-5399770442b4"
      },
      "source": [
        "\n",
        "df=df[df.Duration!='2016-17'] #dropped rows for Duration 2016-17\n",
        "\n",
        "\n",
        "null_columns=df.columns[df.isnull().sum()== len(df.index)] #check for null columns and hence drop them\n",
        "df=df.drop(null_columns,axis=1)\n",
        "\n",
        "\n",
        "\n",
        "df_growth=df.loc['(% Growth over previous year)'] #creating two seprate dataframe for filling out the null values\n",
        "df_gsdp =df.loc['GSDP - CURRENT PRICES (` in Crore)']\n",
        "\n",
        "\n",
        "df_growth = df_growth.fillna(df_growth.mean()) #indexing based on duration\n",
        "df_gsdp = df_gsdp.fillna(df_gsdp.mean())\n",
        "\n",
        "df_growth.set_index(\"Duration\",inplace=True)\n",
        "df_gsdp.set_index(\"Duration\",inplace=True)\n",
        "\n",
        "\n",
        "df_growth.head()#dataframe for percentage growth over previous years"
      ],
      "execution_count": 0,
      "outputs": [
        {
          "output_type": "execute_result",
          "data": {
            "text/html": [
              "<div>\n",
              "<style scoped>\n",
              "    .dataframe tbody tr th:only-of-type {\n",
              "        vertical-align: middle;\n",
              "    }\n",
              "\n",
              "    .dataframe tbody tr th {\n",
              "        vertical-align: top;\n",
              "    }\n",
              "\n",
              "    .dataframe thead th {\n",
              "        text-align: right;\n",
              "    }\n",
              "</style>\n",
              "<table border=\"1\" class=\"dataframe\">\n",
              "  <thead>\n",
              "    <tr style=\"text-align: right;\">\n",
              "      <th></th>\n",
              "      <th>Andhra Pradesh</th>\n",
              "      <th>Arunachal Pradesh</th>\n",
              "      <th>Assam</th>\n",
              "      <th>Bihar</th>\n",
              "      <th>Chhattisgarh</th>\n",
              "      <th>Goa</th>\n",
              "      <th>Gujarat</th>\n",
              "      <th>Haryana</th>\n",
              "      <th>Himachal Pradesh</th>\n",
              "      <th>Jammu &amp; Kashmir</th>\n",
              "      <th>...</th>\n",
              "      <th>Tamil Nadu</th>\n",
              "      <th>Telangana</th>\n",
              "      <th>Tripura</th>\n",
              "      <th>Uttar Pradesh</th>\n",
              "      <th>Uttarakhand</th>\n",
              "      <th>Andaman &amp; Nicobar Islands</th>\n",
              "      <th>Chandigarh</th>\n",
              "      <th>Delhi</th>\n",
              "      <th>Puducherry</th>\n",
              "      <th>All_India GDP</th>\n",
              "    </tr>\n",
              "    <tr>\n",
              "      <th>Duration</th>\n",
              "      <th></th>\n",
              "      <th></th>\n",
              "      <th></th>\n",
              "      <th></th>\n",
              "      <th></th>\n",
              "      <th></th>\n",
              "      <th></th>\n",
              "      <th></th>\n",
              "      <th></th>\n",
              "      <th></th>\n",
              "      <th></th>\n",
              "      <th></th>\n",
              "      <th></th>\n",
              "      <th></th>\n",
              "      <th></th>\n",
              "      <th></th>\n",
              "      <th></th>\n",
              "      <th></th>\n",
              "      <th></th>\n",
              "      <th></th>\n",
              "      <th></th>\n",
              "    </tr>\n",
              "  </thead>\n",
              "  <tbody>\n",
              "    <tr>\n",
              "      <th>2012-13</th>\n",
              "      <td>8.43</td>\n",
              "      <td>13.41</td>\n",
              "      <td>9.56</td>\n",
              "      <td>14.25</td>\n",
              "      <td>12.30</td>\n",
              "      <td>-10.02</td>\n",
              "      <td>17.69</td>\n",
              "      <td>16.63</td>\n",
              "      <td>13.890000</td>\n",
              "      <td>11.31</td>\n",
              "      <td>...</td>\n",
              "      <td>13.84</td>\n",
              "      <td>11.70</td>\n",
              "      <td>12.780000</td>\n",
              "      <td>13.65</td>\n",
              "      <td>14.12</td>\n",
              "      <td>11.13</td>\n",
              "      <td>15.14</td>\n",
              "      <td>13.81</td>\n",
              "      <td>12.23</td>\n",
              "      <td>13.86</td>\n",
              "    </tr>\n",
              "    <tr>\n",
              "      <th>2013-14</th>\n",
              "      <td>12.85</td>\n",
              "      <td>16.38</td>\n",
              "      <td>13.31</td>\n",
              "      <td>12.30</td>\n",
              "      <td>16.44</td>\n",
              "      <td>-5.77</td>\n",
              "      <td>11.47</td>\n",
              "      <td>15.45</td>\n",
              "      <td>14.420000</td>\n",
              "      <td>10.09</td>\n",
              "      <td>...</td>\n",
              "      <td>13.51</td>\n",
              "      <td>12.63</td>\n",
              "      <td>18.140000</td>\n",
              "      <td>14.73</td>\n",
              "      <td>13.64</td>\n",
              "      <td>16.68</td>\n",
              "      <td>14.71</td>\n",
              "      <td>13.43</td>\n",
              "      <td>15.87</td>\n",
              "      <td>12.97</td>\n",
              "    </tr>\n",
              "    <tr>\n",
              "      <th>2014-15</th>\n",
              "      <td>13.40</td>\n",
              "      <td>14.79</td>\n",
              "      <td>11.45</td>\n",
              "      <td>17.92</td>\n",
              "      <td>13.69</td>\n",
              "      <td>13.12</td>\n",
              "      <td>10.82</td>\n",
              "      <td>9.18</td>\n",
              "      <td>10.140000</td>\n",
              "      <td>4.70</td>\n",
              "      <td>...</td>\n",
              "      <td>12.51</td>\n",
              "      <td>13.05</td>\n",
              "      <td>15.920000</td>\n",
              "      <td>10.51</td>\n",
              "      <td>8.12</td>\n",
              "      <td>10.89</td>\n",
              "      <td>12.33</td>\n",
              "      <td>10.96</td>\n",
              "      <td>10.14</td>\n",
              "      <td>10.65</td>\n",
              "    </tr>\n",
              "    <tr>\n",
              "      <th>2015-16</th>\n",
              "      <td>15.85</td>\n",
              "      <td>12.07</td>\n",
              "      <td>13.19</td>\n",
              "      <td>10.59</td>\n",
              "      <td>10.98</td>\n",
              "      <td>10.75</td>\n",
              "      <td>11.09</td>\n",
              "      <td>10.91</td>\n",
              "      <td>12.816667</td>\n",
              "      <td>17.91</td>\n",
              "      <td>...</td>\n",
              "      <td>10.99</td>\n",
              "      <td>12.61</td>\n",
              "      <td>15.613333</td>\n",
              "      <td>10.58</td>\n",
              "      <td>13.65</td>\n",
              "      <td>12.90</td>\n",
              "      <td>8.84</td>\n",
              "      <td>12.09</td>\n",
              "      <td>10.15</td>\n",
              "      <td>9.99</td>\n",
              "    </tr>\n",
              "  </tbody>\n",
              "</table>\n",
              "<p>4 rows × 33 columns</p>\n",
              "</div>"
            ],
            "text/plain": [
              "          Andhra Pradesh   Arunachal Pradesh  Assam  Bihar  Chhattisgarh  \\\n",
              "Duration                                                                   \n",
              "2012-13              8.43              13.41   9.56  14.25         12.30   \n",
              "2013-14             12.85              16.38  13.31  12.30         16.44   \n",
              "2014-15             13.40              14.79  11.45  17.92         13.69   \n",
              "2015-16             15.85              12.07  13.19  10.59         10.98   \n",
              "\n",
              "            Goa  Gujarat  Haryana  Himachal Pradesh  Jammu & Kashmir  ...  \\\n",
              "Duration                                                              ...   \n",
              "2012-13  -10.02    17.69    16.63         13.890000            11.31  ...   \n",
              "2013-14   -5.77    11.47    15.45         14.420000            10.09  ...   \n",
              "2014-15   13.12    10.82     9.18         10.140000             4.70  ...   \n",
              "2015-16   10.75    11.09    10.91         12.816667            17.91  ...   \n",
              "\n",
              "          Tamil Nadu  Telangana    Tripura  Uttar Pradesh  Uttarakhand  \\\n",
              "Duration                                                                 \n",
              "2012-13        13.84      11.70  12.780000          13.65        14.12   \n",
              "2013-14        13.51      12.63  18.140000          14.73        13.64   \n",
              "2014-15        12.51      13.05  15.920000          10.51         8.12   \n",
              "2015-16        10.99      12.61  15.613333          10.58        13.65   \n",
              "\n",
              "          Andaman & Nicobar Islands  Chandigarh  Delhi  Puducherry  \\\n",
              "Duration                                                             \n",
              "2012-13                       11.13       15.14  13.81       12.23   \n",
              "2013-14                       16.68       14.71  13.43       15.87   \n",
              "2014-15                       10.89       12.33  10.96       10.14   \n",
              "2015-16                       12.90        8.84  12.09       10.15   \n",
              "\n",
              "          All_India GDP  \n",
              "Duration                 \n",
              "2012-13           13.86  \n",
              "2013-14           12.97  \n",
              "2014-15           10.65  \n",
              "2015-16            9.99  \n",
              "\n",
              "[4 rows x 33 columns]"
            ]
          },
          "metadata": {
            "tags": []
          },
          "execution_count": 2
        }
      ]
    },
    {
      "cell_type": "code",
      "metadata": {
        "id": "TavkfBZovBPz",
        "colab_type": "code",
        "colab": {},
        "outputId": "6d112083-0e04-49ba-b8a1-1aeede84eb2a"
      },
      "source": [
        "df_gsdp.head() #dataframe for GSDP(in crores) for the states"
      ],
      "execution_count": 0,
      "outputs": [
        {
          "output_type": "execute_result",
          "data": {
            "text/html": [
              "<div>\n",
              "<style scoped>\n",
              "    .dataframe tbody tr th:only-of-type {\n",
              "        vertical-align: middle;\n",
              "    }\n",
              "\n",
              "    .dataframe tbody tr th {\n",
              "        vertical-align: top;\n",
              "    }\n",
              "\n",
              "    .dataframe thead th {\n",
              "        text-align: right;\n",
              "    }\n",
              "</style>\n",
              "<table border=\"1\" class=\"dataframe\">\n",
              "  <thead>\n",
              "    <tr style=\"text-align: right;\">\n",
              "      <th></th>\n",
              "      <th>Andhra Pradesh</th>\n",
              "      <th>Arunachal Pradesh</th>\n",
              "      <th>Assam</th>\n",
              "      <th>Bihar</th>\n",
              "      <th>Chhattisgarh</th>\n",
              "      <th>Goa</th>\n",
              "      <th>Gujarat</th>\n",
              "      <th>Haryana</th>\n",
              "      <th>Himachal Pradesh</th>\n",
              "      <th>Jammu &amp; Kashmir</th>\n",
              "      <th>...</th>\n",
              "      <th>Tamil Nadu</th>\n",
              "      <th>Telangana</th>\n",
              "      <th>Tripura</th>\n",
              "      <th>Uttar Pradesh</th>\n",
              "      <th>Uttarakhand</th>\n",
              "      <th>Andaman &amp; Nicobar Islands</th>\n",
              "      <th>Chandigarh</th>\n",
              "      <th>Delhi</th>\n",
              "      <th>Puducherry</th>\n",
              "      <th>All_India GDP</th>\n",
              "    </tr>\n",
              "    <tr>\n",
              "      <th>Duration</th>\n",
              "      <th></th>\n",
              "      <th></th>\n",
              "      <th></th>\n",
              "      <th></th>\n",
              "      <th></th>\n",
              "      <th></th>\n",
              "      <th></th>\n",
              "      <th></th>\n",
              "      <th></th>\n",
              "      <th></th>\n",
              "      <th></th>\n",
              "      <th></th>\n",
              "      <th></th>\n",
              "      <th></th>\n",
              "      <th></th>\n",
              "      <th></th>\n",
              "      <th></th>\n",
              "      <th></th>\n",
              "      <th></th>\n",
              "      <th></th>\n",
              "      <th></th>\n",
              "    </tr>\n",
              "  </thead>\n",
              "  <tbody>\n",
              "    <tr>\n",
              "      <th>2011-12</th>\n",
              "      <td>379402.0</td>\n",
              "      <td>11063.0</td>\n",
              "      <td>143175.0</td>\n",
              "      <td>247144.0</td>\n",
              "      <td>158074.0</td>\n",
              "      <td>42367.0</td>\n",
              "      <td>615606.0</td>\n",
              "      <td>297539.0</td>\n",
              "      <td>72720.00</td>\n",
              "      <td>78254.0</td>\n",
              "      <td>...</td>\n",
              "      <td>751485.0</td>\n",
              "      <td>359433.0</td>\n",
              "      <td>19208.00</td>\n",
              "      <td>724049.0</td>\n",
              "      <td>115523.0</td>\n",
              "      <td>3979.0</td>\n",
              "      <td>18768.0</td>\n",
              "      <td>343767.0</td>\n",
              "      <td>16818.0</td>\n",
              "      <td>8736039.0</td>\n",
              "    </tr>\n",
              "    <tr>\n",
              "      <th>2012-13</th>\n",
              "      <td>411404.0</td>\n",
              "      <td>12547.0</td>\n",
              "      <td>156864.0</td>\n",
              "      <td>282368.0</td>\n",
              "      <td>177511.0</td>\n",
              "      <td>38120.0</td>\n",
              "      <td>724495.0</td>\n",
              "      <td>347032.0</td>\n",
              "      <td>82820.00</td>\n",
              "      <td>87105.0</td>\n",
              "      <td>...</td>\n",
              "      <td>855481.0</td>\n",
              "      <td>401493.0</td>\n",
              "      <td>21663.00</td>\n",
              "      <td>822903.0</td>\n",
              "      <td>131835.0</td>\n",
              "      <td>4421.0</td>\n",
              "      <td>21609.0</td>\n",
              "      <td>391238.0</td>\n",
              "      <td>18875.0</td>\n",
              "      <td>9946636.0</td>\n",
              "    </tr>\n",
              "    <tr>\n",
              "      <th>2013-14</th>\n",
              "      <td>464272.0</td>\n",
              "      <td>14602.0</td>\n",
              "      <td>177745.0</td>\n",
              "      <td>317101.0</td>\n",
              "      <td>206690.0</td>\n",
              "      <td>35921.0</td>\n",
              "      <td>807623.0</td>\n",
              "      <td>400662.0</td>\n",
              "      <td>94764.00</td>\n",
              "      <td>95893.0</td>\n",
              "      <td>...</td>\n",
              "      <td>971090.0</td>\n",
              "      <td>452186.0</td>\n",
              "      <td>25593.00</td>\n",
              "      <td>944146.0</td>\n",
              "      <td>149817.0</td>\n",
              "      <td>5159.0</td>\n",
              "      <td>24787.0</td>\n",
              "      <td>443783.0</td>\n",
              "      <td>21870.0</td>\n",
              "      <td>11236635.0</td>\n",
              "    </tr>\n",
              "    <tr>\n",
              "      <th>2014-15</th>\n",
              "      <td>526468.0</td>\n",
              "      <td>16761.0</td>\n",
              "      <td>198098.0</td>\n",
              "      <td>373920.0</td>\n",
              "      <td>234982.0</td>\n",
              "      <td>40633.0</td>\n",
              "      <td>895027.0</td>\n",
              "      <td>437462.0</td>\n",
              "      <td>104369.00</td>\n",
              "      <td>100404.0</td>\n",
              "      <td>...</td>\n",
              "      <td>1092564.0</td>\n",
              "      <td>511178.0</td>\n",
              "      <td>29667.00</td>\n",
              "      <td>1043371.0</td>\n",
              "      <td>161985.0</td>\n",
              "      <td>5721.0</td>\n",
              "      <td>27844.0</td>\n",
              "      <td>492424.0</td>\n",
              "      <td>24089.0</td>\n",
              "      <td>12433749.0</td>\n",
              "    </tr>\n",
              "    <tr>\n",
              "      <th>2015-16</th>\n",
              "      <td>609934.0</td>\n",
              "      <td>18784.0</td>\n",
              "      <td>224234.0</td>\n",
              "      <td>413503.0</td>\n",
              "      <td>260776.0</td>\n",
              "      <td>45002.0</td>\n",
              "      <td>994316.0</td>\n",
              "      <td>485184.0</td>\n",
              "      <td>88668.25</td>\n",
              "      <td>118387.0</td>\n",
              "      <td>...</td>\n",
              "      <td>1212668.0</td>\n",
              "      <td>575631.0</td>\n",
              "      <td>24032.75</td>\n",
              "      <td>1153795.0</td>\n",
              "      <td>184091.0</td>\n",
              "      <td>4820.0</td>\n",
              "      <td>30304.0</td>\n",
              "      <td>551963.0</td>\n",
              "      <td>26533.0</td>\n",
              "      <td>13675331.0</td>\n",
              "    </tr>\n",
              "  </tbody>\n",
              "</table>\n",
              "<p>5 rows × 33 columns</p>\n",
              "</div>"
            ],
            "text/plain": [
              "          Andhra Pradesh   Arunachal Pradesh     Assam     Bihar  \\\n",
              "Duration                                                           \n",
              "2011-12          379402.0            11063.0  143175.0  247144.0   \n",
              "2012-13          411404.0            12547.0  156864.0  282368.0   \n",
              "2013-14          464272.0            14602.0  177745.0  317101.0   \n",
              "2014-15          526468.0            16761.0  198098.0  373920.0   \n",
              "2015-16          609934.0            18784.0  224234.0  413503.0   \n",
              "\n",
              "          Chhattisgarh      Goa   Gujarat   Haryana  Himachal Pradesh  \\\n",
              "Duration                                                                \n",
              "2011-12       158074.0  42367.0  615606.0  297539.0          72720.00   \n",
              "2012-13       177511.0  38120.0  724495.0  347032.0          82820.00   \n",
              "2013-14       206690.0  35921.0  807623.0  400662.0          94764.00   \n",
              "2014-15       234982.0  40633.0  895027.0  437462.0         104369.00   \n",
              "2015-16       260776.0  45002.0  994316.0  485184.0          88668.25   \n",
              "\n",
              "          Jammu & Kashmir  ...  Tamil Nadu  Telangana   Tripura  \\\n",
              "Duration                   ...                                    \n",
              "2011-12           78254.0  ...    751485.0   359433.0  19208.00   \n",
              "2012-13           87105.0  ...    855481.0   401493.0  21663.00   \n",
              "2013-14           95893.0  ...    971090.0   452186.0  25593.00   \n",
              "2014-15          100404.0  ...   1092564.0   511178.0  29667.00   \n",
              "2015-16          118387.0  ...   1212668.0   575631.0  24032.75   \n",
              "\n",
              "          Uttar Pradesh  Uttarakhand  Andaman & Nicobar Islands  Chandigarh  \\\n",
              "Duration                                                                      \n",
              "2011-12        724049.0     115523.0                     3979.0     18768.0   \n",
              "2012-13        822903.0     131835.0                     4421.0     21609.0   \n",
              "2013-14        944146.0     149817.0                     5159.0     24787.0   \n",
              "2014-15       1043371.0     161985.0                     5721.0     27844.0   \n",
              "2015-16       1153795.0     184091.0                     4820.0     30304.0   \n",
              "\n",
              "             Delhi  Puducherry  All_India GDP  \n",
              "Duration                                       \n",
              "2011-12   343767.0     16818.0      8736039.0  \n",
              "2012-13   391238.0     18875.0      9946636.0  \n",
              "2013-14   443783.0     21870.0     11236635.0  \n",
              "2014-15   492424.0     24089.0     12433749.0  \n",
              "2015-16   551963.0     26533.0     13675331.0  \n",
              "\n",
              "[5 rows x 33 columns]"
            ]
          },
          "metadata": {
            "tags": []
          },
          "execution_count": 3
        }
      ]
    },
    {
      "cell_type": "code",
      "metadata": {
        "id": "5IWhlmW4vBP3",
        "colab_type": "code",
        "colab": {},
        "outputId": "6a1339fa-646a-456b-ab54-31b310cc8453"
      },
      "source": [
        "avg_grow=pd.DataFrame({'Average Growth % (2012-16)':df_growth.mean().iloc[range(len(df_growth.columns)-1)].sort_values(ascending=False)})\n",
        "avg_grow.head() #dataframe for average growth rate of states from 2012-16"
      ],
      "execution_count": 0,
      "outputs": [
        {
          "output_type": "execute_result",
          "data": {
            "text/html": [
              "<div>\n",
              "<style scoped>\n",
              "    .dataframe tbody tr th:only-of-type {\n",
              "        vertical-align: middle;\n",
              "    }\n",
              "\n",
              "    .dataframe tbody tr th {\n",
              "        vertical-align: top;\n",
              "    }\n",
              "\n",
              "    .dataframe thead th {\n",
              "        text-align: right;\n",
              "    }\n",
              "</style>\n",
              "<table border=\"1\" class=\"dataframe\">\n",
              "  <thead>\n",
              "    <tr style=\"text-align: right;\">\n",
              "      <th></th>\n",
              "      <th>Average Growth % (2012-16)</th>\n",
              "    </tr>\n",
              "  </thead>\n",
              "  <tbody>\n",
              "    <tr>\n",
              "      <th>Mizoram</th>\n",
              "      <td>16.866667</td>\n",
              "    </tr>\n",
              "    <tr>\n",
              "      <th>Nagaland</th>\n",
              "      <td>15.953333</td>\n",
              "    </tr>\n",
              "    <tr>\n",
              "      <th>Tripura</th>\n",
              "      <td>15.613333</td>\n",
              "    </tr>\n",
              "    <tr>\n",
              "      <th>Madhya Pradesh</th>\n",
              "      <td>14.647500</td>\n",
              "    </tr>\n",
              "    <tr>\n",
              "      <th>Karnataka</th>\n",
              "      <td>14.230000</td>\n",
              "    </tr>\n",
              "  </tbody>\n",
              "</table>\n",
              "</div>"
            ],
            "text/plain": [
              "                Average Growth % (2012-16)\n",
              "Mizoram                          16.866667\n",
              "Nagaland                         15.953333\n",
              "Tripura                          15.613333\n",
              "Madhya Pradesh                   14.647500\n",
              "Karnataka                        14.230000"
            ]
          },
          "metadata": {
            "tags": []
          },
          "execution_count": 4
        }
      ]
    },
    {
      "cell_type": "code",
      "metadata": {
        "id": "ceLtYljdvBP-",
        "colab_type": "code",
        "colab": {},
        "outputId": "fbbc36c8-bd3d-4052-c6a9-a2270fd94486"
      },
      "source": [
        "fig= plt.figure(figsize=(10,10))\n",
        "sns.barplot(y=avg_grow.index,x=avg_grow['Average Growth % (2012-16)'],palette=\"summer\")\n",
        "plt.axvline((df_growth['All_India GDP']).mean(),color='k',linestyle='dashed',linewidth=3)\n",
        "plt.title('Average % Growth compared to average % growth of country from 2012-16',fontsize=15)\n",
        "plt.savefig('fig1.png')\n",
        "plt.show()\n",
        "\n",
        "\n",
        "\n"
      ],
      "execution_count": 0,
      "outputs": [
        {
          "output_type": "display_data",
          "data": {
            "image/png": "[encoded data removed]",
            "text/plain": [
              "<Figure size 720x720 with 1 Axes>"
            ]
          },
          "metadata": {
            "tags": [],
            "needs_background": "light"
          }
        }
      ]
    },
    {
      "cell_type": "markdown",
      "metadata": {
        "id": "yfvY9z8fvBQC",
        "colab_type": "text"
      },
      "source": [
        "<h3>Top 3 Fastest Growing States based on average growth rate from 2012-16:<br></h3>\n",
        "1. Mizoram<br>\n",
        "2. Nagaland<br>\n",
        "3. Tripura<br>\n",
        "<h3>Bottom 3 Struggling States based on average growth rate from 2012-16:<br></h3>\n",
        "1. Goa<br>\n",
        "2. Meghalaya<br>\n",
        "3. Sikkim<br>\n"
      ]
    },
    {
      "cell_type": "markdown",
      "metadata": {
        "id": "QTUseErZvBQD",
        "colab_type": "text"
      },
      "source": [
        "<h3>Analysis for home State of Karnataka</h3>"
      ]
    },
    {
      "cell_type": "code",
      "metadata": {
        "id": "RryQKsG9vBQE",
        "colab_type": "code",
        "colab": {},
        "outputId": "62ff332e-3581-4b9a-822e-8fd6bd32f515"
      },
      "source": [
        "#considering karnataka as home state\n",
        "fig = plt.figure(figsize=(14,5))\n",
        "plt.subplot(1,3,1)\n",
        "sns.barplot(x=df_growth.index,y=df_growth['Karnataka'],palette='Dark2')\n",
        "plt.ylabel('% Growth over years in Karntaka')\n",
        "plt.subplot(1,3,3)\n",
        "sns.barplot(y=[df_growth['All_India GDP'].mean(),df_growth['Karnataka'].mean()],x=['All India GDP','Karnataka'],palette='Set1')\n",
        "plt.ylabel('Average % Growth in 2012-16')\n",
        "plt.show()\n"
      ],
      "execution_count": 0,
      "outputs": [
        {
          "output_type": "display_data",
          "data": {
            "image/png": "[encoded data removed]",
            "text/plain": [
              "<Figure size 1008x360 with 2 Axes>"
            ]
          },
          "metadata": {
            "tags": [],
            "needs_background": "light"
          }
        }
      ]
    },
    {
      "cell_type": "markdown",
      "metadata": {
        "id": "SbWvFoG4vBQI",
        "colab_type": "text"
      },
      "source": [
        "Home state of Karnataka has performed fairly well over the 4 years as compared to average growth of the country but proper investigation should be done on steep decrease in growth rate from 2014-2016."
      ]
    },
    {
      "cell_type": "code",
      "metadata": {
        "id": "Fyq8w_jgvBQK",
        "colab_type": "code",
        "colab": {},
        "outputId": "b105e8f5-ad16-406a-ee3b-bae05f1ba35c"
      },
      "source": [
        "gdp_values=df_gsdp.loc['2015-16'].iloc[range(len(df_gsdp.columns)-1)].sort_values(ascending=False)\n",
        "total_gdp=pd.DataFrame({'Total_GDP(in Crore)':gdp_values})\n",
        "total_gdp.head() #dataframe for total GDP of states in 2015-16"
      ],
      "execution_count": 0,
      "outputs": [
        {
          "output_type": "execute_result",
          "data": {
            "text/html": [
              "<div>\n",
              "<style scoped>\n",
              "    .dataframe tbody tr th:only-of-type {\n",
              "        vertical-align: middle;\n",
              "    }\n",
              "\n",
              "    .dataframe tbody tr th {\n",
              "        vertical-align: top;\n",
              "    }\n",
              "\n",
              "    .dataframe thead th {\n",
              "        text-align: right;\n",
              "    }\n",
              "</style>\n",
              "<table border=\"1\" class=\"dataframe\">\n",
              "  <thead>\n",
              "    <tr style=\"text-align: right;\">\n",
              "      <th></th>\n",
              "      <th>Total_GDP(in Crore)</th>\n",
              "    </tr>\n",
              "  </thead>\n",
              "  <tbody>\n",
              "    <tr>\n",
              "      <th>Maharashtra</th>\n",
              "      <td>1540265.25</td>\n",
              "    </tr>\n",
              "    <tr>\n",
              "      <th>Tamil Nadu</th>\n",
              "      <td>1212668.00</td>\n",
              "    </tr>\n",
              "    <tr>\n",
              "      <th>Uttar Pradesh</th>\n",
              "      <td>1153795.00</td>\n",
              "    </tr>\n",
              "    <tr>\n",
              "      <th>Karnataka</th>\n",
              "      <td>1027068.00</td>\n",
              "    </tr>\n",
              "    <tr>\n",
              "      <th>Gujarat</th>\n",
              "      <td>994316.00</td>\n",
              "    </tr>\n",
              "  </tbody>\n",
              "</table>\n",
              "</div>"
            ],
            "text/plain": [
              "               Total_GDP(in Crore)\n",
              "Maharashtra             1540265.25\n",
              "Tamil Nadu              1212668.00\n",
              "Uttar Pradesh           1153795.00\n",
              "Karnataka               1027068.00\n",
              "Gujarat                  994316.00"
            ]
          },
          "metadata": {
            "tags": []
          },
          "execution_count": 7
        }
      ]
    },
    {
      "cell_type": "code",
      "metadata": {
        "id": "vhFRpkDovBQQ",
        "colab_type": "code",
        "colab": {},
        "outputId": "5cd8fc13-b78a-438b-aab6-da88b07bfbcf"
      },
      "source": [
        "fig=plt.figure(figsize=(10,10))\n",
        "sns.barplot(y=total_gdp.index,x=total_gdp['Total_GDP(in Crore)'],palette='Dark2')\n",
        "plt.title('Total GDP of the States in 2015-16',fontsize=15)\n",
        "plt.show()"
      ],
      "execution_count": 0,
      "outputs": [
        {
          "output_type": "display_data",
          "data": {
            "image/png": "[encoded data removed]",
            "text/plain": [
              "<Figure size 720x720 with 1 Axes>"
            ]
          },
          "metadata": {
            "tags": [],
            "needs_background": "light"
          }
        }
      ]
    },
    {
      "cell_type": "markdown",
      "metadata": {
        "id": "-UivRpntvBQT",
        "colab_type": "text"
      },
      "source": [
        "<b>Based on GDP Analysis , Top 5 states in 2015-16 were:<br></b>\n",
        "1. Maharashtra<br>\n",
        "2. Tamil Nadu<br>\n",
        "3. Uttar Pradesh<br>\n",
        "4. Karnataka<br>\n",
        "5. Gujarat<br>\n",
        "\n",
        "<b>and, Bottom 5 states are:</b><br>\n",
        "1. Andaman & Nicobar Islands<br>\n",
        "2. Mizoram<br>\n",
        "3. Nagaland<br>\n",
        "4. Manipur<br>\n",
        "5. Sikkim<br>"
      ]
    },
    {
      "cell_type": "markdown",
      "metadata": {
        "id": "rczbkqsXvBQU",
        "colab_type": "text"
      },
      "source": [
        "<h2>Part I-B</h2>"
      ]
    },
    {
      "cell_type": "markdown",
      "metadata": {
        "id": "pyDy3aQlvBQW",
        "colab_type": "text"
      },
      "source": [
        "<h3>Merging all states gsdp data to a single DataFrame for year 2014-15</h3>"
      ]
    },
    {
      "cell_type": "code",
      "metadata": {
        "scrolled": true,
        "id": "qCpwXMNkvBQX",
        "colab_type": "code",
        "colab": {},
        "outputId": "2ab33f24-827b-4407-89b5-da8c5c11578e"
      },
      "source": [
        "all_states=['Andhra Pradesh','Arunachal Pradesh','Assam','Bihar','chattisgarh','Goa','Gujarat','Haryana',\n",
        "               'Himachal Pradesh','Jharkhand','Karnataka','Kerela','Madhya Pradesh','Maharashtra','Manipur','Meghalaya',\n",
        "               'Mizoram','Nagaland','Odisha','Punjab','Rajasthan','Sikkim','Tamil Nadu','Telangana','Tripura',\n",
        "               'Uttar Pradesh','Uttarakhand']\n",
        "def read_files():\n",
        "    path = r'states/' # use your path\n",
        "    all_files = sorted(glob.glob(path + \"/*.csv\"))\n",
        "\n",
        "    li = []\n",
        "\n",
        "    for filename in all_files:\n",
        "        df = pd.read_csv(filename,encoding = \"ISO-8859-1\")\n",
        "        li.append(df)\n",
        "    \n",
        "    frame = pd.concat(li,axis=1,sort=False)\n",
        "    frame=frame.drop(columns='S.No.')\n",
        "    #frame=frame.set_index(['State','Item'],drop=True)\n",
        "\n",
        "    return frame\n",
        "\n",
        "df_states_GDP=read_files()    \n",
        "df_states_GDP=df_states_GDP.T.drop(['2011-12','2012-13','2013-14','2015-16','2016-17'])\n",
        "df_states_GDP.index.name='indexes'\n",
        "df_states_GDP=df_states_GDP.reset_index('indexes').drop(columns='indexes') # the following dataframe consists of 2014-15 data\n",
        "df_states_GDP.drop_duplicates(inplace=True)\n",
        "df_states_GDP # there are few item list marked with * due to which there are duplicates even after dropping them\n",
        "df_states_GDP.drop([12,22,52],inplace=True) # dropping row 14,24,56\n",
        "col_headers=df_states_GDP.loc[0] # list of  items to be made as column headers\n",
        "df_states_GDP=df_states_GDP.iloc[1:]\n",
        "df_states_GDP.columns=col_headers\n",
        "df_states_GDP.set_index([all_states],inplace=True) # setting all the states as index list\n",
        "df_states_GDP.fillna(0,inplace=True)\n",
        "df_states_GDP.head() #final dataframe to be used for part I b"
      ],
      "execution_count": 0,
      "outputs": [
        {
          "output_type": "execute_result",
          "data": {
            "text/html": [
              "<div>\n",
              "<style scoped>\n",
              "    .dataframe tbody tr th:only-of-type {\n",
              "        vertical-align: middle;\n",
              "    }\n",
              "\n",
              "    .dataframe tbody tr th {\n",
              "        vertical-align: top;\n",
              "    }\n",
              "\n",
              "    .dataframe thead th {\n",
              "        text-align: right;\n",
              "    }\n",
              "</style>\n",
              "<table border=\"1\" class=\"dataframe\">\n",
              "  <thead>\n",
              "    <tr style=\"text-align: right;\">\n",
              "      <th></th>\n",
              "      <th>Agriculture, forestry and fishing</th>\n",
              "      <th>Crops</th>\n",
              "      <th>Livestock</th>\n",
              "      <th>Forestry and logging</th>\n",
              "      <th>Fishing and aquaculture</th>\n",
              "      <th>Mining and quarrying</th>\n",
              "      <th>Primary</th>\n",
              "      <th>Manufacturing</th>\n",
              "      <th>Electricity, gas, water supply &amp; other utility services</th>\n",
              "      <th>Construction</th>\n",
              "      <th>...</th>\n",
              "      <th>Real estate, ownership of dwelling &amp; professional services</th>\n",
              "      <th>Public administration</th>\n",
              "      <th>Other services</th>\n",
              "      <th>Tertiary</th>\n",
              "      <th>TOTAL GSVA at basic prices</th>\n",
              "      <th>Taxes on Products</th>\n",
              "      <th>Subsidies on products</th>\n",
              "      <th>Gross State Domestic Product</th>\n",
              "      <th>Population ('00)</th>\n",
              "      <th>Per Capita GSDP (Rs.)</th>\n",
              "    </tr>\n",
              "  </thead>\n",
              "  <tbody>\n",
              "    <tr>\n",
              "      <th>Andhra Pradesh</th>\n",
              "      <td>14819416.0</td>\n",
              "      <td>7893514.0</td>\n",
              "      <td>4309078.0</td>\n",
              "      <td>346160.0</td>\n",
              "      <td>2270664.0</td>\n",
              "      <td>1484300.0</td>\n",
              "      <td>16303716.0</td>\n",
              "      <td>4672266.0</td>\n",
              "      <td>1151729.0</td>\n",
              "      <td>4664889.0</td>\n",
              "      <td>...</td>\n",
              "      <td>4405409.0</td>\n",
              "      <td>2200897.0</td>\n",
              "      <td>4215389.0</td>\n",
              "      <td>22032942.0</td>\n",
              "      <td>48825542.0</td>\n",
              "      <td>5512100.0</td>\n",
              "      <td>1690800.0</td>\n",
              "      <td>52646842.0</td>\n",
              "      <td>501510.0</td>\n",
              "      <td>104977.0</td>\n",
              "    </tr>\n",
              "    <tr>\n",
              "      <th>Arunachal Pradesh</th>\n",
              "      <td>686117.0</td>\n",
              "      <td>415520.0</td>\n",
              "      <td>38387.0</td>\n",
              "      <td>224017.0</td>\n",
              "      <td>8193.0</td>\n",
              "      <td>30842.0</td>\n",
              "      <td>716959.0</td>\n",
              "      <td>26120.0</td>\n",
              "      <td>113527.0</td>\n",
              "      <td>147842.0</td>\n",
              "      <td>...</td>\n",
              "      <td>48418.0</td>\n",
              "      <td>243867.0</td>\n",
              "      <td>218728.0</td>\n",
              "      <td>631844.0</td>\n",
              "      <td>1636292.0</td>\n",
              "      <td>70099.0</td>\n",
              "      <td>30272.0</td>\n",
              "      <td>1676119.0</td>\n",
              "      <td>14870.0</td>\n",
              "      <td>112718.0</td>\n",
              "    </tr>\n",
              "    <tr>\n",
              "      <th>Assam</th>\n",
              "      <td>3855548.0</td>\n",
              "      <td>2890544.0</td>\n",
              "      <td>173478.0</td>\n",
              "      <td>261987.0</td>\n",
              "      <td>529539.0</td>\n",
              "      <td>1471149.0</td>\n",
              "      <td>5326697.0</td>\n",
              "      <td>2002936.0</td>\n",
              "      <td>296587.0</td>\n",
              "      <td>1733568.0</td>\n",
              "      <td>...</td>\n",
              "      <td>1412466.0</td>\n",
              "      <td>1373611.0</td>\n",
              "      <td>1795658.0</td>\n",
              "      <td>9307109.0</td>\n",
              "      <td>18666897.0</td>\n",
              "      <td>1725309.0</td>\n",
              "      <td>582406.0</td>\n",
              "      <td>19809800.0</td>\n",
              "      <td>326780.0</td>\n",
              "      <td>60621.0</td>\n",
              "    </tr>\n",
              "    <tr>\n",
              "      <th>Bihar</th>\n",
              "      <td>7951890.0</td>\n",
              "      <td>4688237.0</td>\n",
              "      <td>2060296.0</td>\n",
              "      <td>550132.0</td>\n",
              "      <td>653224.0</td>\n",
              "      <td>68107.0</td>\n",
              "      <td>8019997.0</td>\n",
              "      <td>2189965.0</td>\n",
              "      <td>345168.0</td>\n",
              "      <td>3449763.0</td>\n",
              "      <td>...</td>\n",
              "      <td>3740641.0</td>\n",
              "      <td>2078171.0</td>\n",
              "      <td>4587589.0</td>\n",
              "      <td>22179969.0</td>\n",
              "      <td>36184863.0</td>\n",
              "      <td>3213546.0</td>\n",
              "      <td>2006421.0</td>\n",
              "      <td>37391988.0</td>\n",
              "      <td>1101240.0</td>\n",
              "      <td>33954.0</td>\n",
              "    </tr>\n",
              "    <tr>\n",
              "      <th>chattisgarh</th>\n",
              "      <td>3948847.0</td>\n",
              "      <td>2613371.0</td>\n",
              "      <td>352208.0</td>\n",
              "      <td>597785.0</td>\n",
              "      <td>385483.0</td>\n",
              "      <td>2451970.0</td>\n",
              "      <td>6400817.0</td>\n",
              "      <td>4370593.0</td>\n",
              "      <td>1198438.0</td>\n",
              "      <td>2669855.0</td>\n",
              "      <td>...</td>\n",
              "      <td>2462166.0</td>\n",
              "      <td>867982.0</td>\n",
              "      <td>1112232.0</td>\n",
              "      <td>7588778.0</td>\n",
              "      <td>22228481.0</td>\n",
              "      <td>2601791.0</td>\n",
              "      <td>1332092.0</td>\n",
              "      <td>23498180.0</td>\n",
              "      <td>270530.0</td>\n",
              "      <td>86860.0</td>\n",
              "    </tr>\n",
              "  </tbody>\n",
              "</table>\n",
              "<p>5 rows × 33 columns</p>\n",
              "</div>"
            ],
            "text/plain": [
              "0                  Agriculture, forestry and fishing      Crops  Livestock  \\\n",
              "Andhra Pradesh                            14819416.0  7893514.0  4309078.0   \n",
              "Arunachal Pradesh                           686117.0   415520.0    38387.0   \n",
              "Assam                                      3855548.0  2890544.0   173478.0   \n",
              "Bihar                                      7951890.0  4688237.0  2060296.0   \n",
              "chattisgarh                                3948847.0  2613371.0   352208.0   \n",
              "\n",
              "0                  Forestry and logging  Fishing and aquaculture  \\\n",
              "Andhra Pradesh                 346160.0                2270664.0   \n",
              "Arunachal Pradesh              224017.0                   8193.0   \n",
              "Assam                          261987.0                 529539.0   \n",
              "Bihar                          550132.0                 653224.0   \n",
              "chattisgarh                    597785.0                 385483.0   \n",
              "\n",
              "0                  Mining and quarrying     Primary  Manufacturing  \\\n",
              "Andhra Pradesh                1484300.0  16303716.0      4672266.0   \n",
              "Arunachal Pradesh               30842.0    716959.0        26120.0   \n",
              "Assam                         1471149.0   5326697.0      2002936.0   \n",
              "Bihar                           68107.0   8019997.0      2189965.0   \n",
              "chattisgarh                   2451970.0   6400817.0      4370593.0   \n",
              "\n",
              "0                  Electricity, gas, water supply & other utility services  \\\n",
              "Andhra Pradesh                                             1151729.0         \n",
              "Arunachal Pradesh                                           113527.0         \n",
              "Assam                                                       296587.0         \n",
              "Bihar                                                       345168.0         \n",
              "chattisgarh                                                1198438.0         \n",
              "\n",
              "0                  Construction  ...  \\\n",
              "Andhra Pradesh        4664889.0  ...   \n",
              "Arunachal Pradesh      147842.0  ...   \n",
              "Assam                 1733568.0  ...   \n",
              "Bihar                 3449763.0  ...   \n",
              "chattisgarh           2669855.0  ...   \n",
              "\n",
              "0                  Real estate, ownership of dwelling & professional services  \\\n",
              "Andhra Pradesh                                             4405409.0            \n",
              "Arunachal Pradesh                                            48418.0            \n",
              "Assam                                                      1412466.0            \n",
              "Bihar                                                      3740641.0            \n",
              "chattisgarh                                                2462166.0            \n",
              "\n",
              "0                  Public administration  Other services    Tertiary  \\\n",
              "Andhra Pradesh                 2200897.0       4215389.0  22032942.0   \n",
              "Arunachal Pradesh               243867.0        218728.0    631844.0   \n",
              "Assam                          1373611.0       1795658.0   9307109.0   \n",
              "Bihar                          2078171.0       4587589.0  22179969.0   \n",
              "chattisgarh                     867982.0       1112232.0   7588778.0   \n",
              "\n",
              "0                  TOTAL GSVA at basic prices  Taxes on Products  \\\n",
              "Andhra Pradesh                     48825542.0          5512100.0   \n",
              "Arunachal Pradesh                   1636292.0            70099.0   \n",
              "Assam                              18666897.0          1725309.0   \n",
              "Bihar                              36184863.0          3213546.0   \n",
              "chattisgarh                        22228481.0          2601791.0   \n",
              "\n",
              "0                  Subsidies on products  Gross State Domestic Product  \\\n",
              "Andhra Pradesh                 1690800.0                    52646842.0   \n",
              "Arunachal Pradesh                30272.0                     1676119.0   \n",
              "Assam                           582406.0                    19809800.0   \n",
              "Bihar                          2006421.0                    37391988.0   \n",
              "chattisgarh                    1332092.0                    23498180.0   \n",
              "\n",
              "0                  Population ('00)  Per Capita GSDP (Rs.)  \n",
              "Andhra Pradesh             501510.0               104977.0  \n",
              "Arunachal Pradesh           14870.0               112718.0  \n",
              "Assam                      326780.0                60621.0  \n",
              "Bihar                     1101240.0                33954.0  \n",
              "chattisgarh                270530.0                86860.0  \n",
              "\n",
              "[5 rows x 33 columns]"
            ]
          },
          "metadata": {
            "tags": []
          },
          "execution_count": 9
        }
      ]
    },
    {
      "cell_type": "code",
      "metadata": {
        "id": "DcX-tL3hvBQb",
        "colab_type": "code",
        "colab": {},
        "outputId": "57fca987-4f94-44d9-a722-77721fc61a6a"
      },
      "source": [
        "rate_gsdp=pd.DataFrame(df_states_GDP['Per Capita GSDP (Rs.)'].sort_values(ascending=False)) # dataframe for comparing state gdp\n",
        "fig_1=plt.figure(figsize=(10.0,10.0))\n",
        "sns.barplot(y=rate_gsdp.index,x=rate_gsdp['Per Capita GSDP (Rs.)'],palette='GnBu_d')\n",
        "plt.title('Per Capita GSDP comparision in 2014-15',fontsize=12)\n",
        "plt.show()"
      ],
      "execution_count": 0,
      "outputs": [
        {
          "output_type": "display_data",
          "data": {
            "image/png": "[encoded data removed]",
            "text/plain": [
              "<Figure size 720x720 with 1 Axes>"
            ]
          },
          "metadata": {
            "tags": [],
            "needs_background": "light"
          }
        }
      ]
    },
    {
      "cell_type": "markdown",
      "metadata": {
        "id": "LEocGZVNvBQi",
        "colab_type": "text"
      },
      "source": [
        "<h3> Top 5 states based on GDP per Capita:</h3>\n",
        "1.  Goa<br>\n",
        "2.  Sikkim<br>\n",
        "3.  Haryana<br>\n",
        "4.  Kerela<br>\n",
        "5.  Uttarakhand<br>\n",
        "<h3> Bottom 5 states based on GDP per Capita:</h3>\n",
        "1.  Bihar<br>\n",
        "2.  Uttar Pradesh<br>\n",
        "3.  Manipur<br>\n",
        "4.  Assam<br>\n",
        "5.  Jharkhand<br>\n",
        "\n",
        "<h3>Ratio of Highest Per Capita GDP to Lowest Per Capita GDP:<h3>"
      ]
    },
    {
      "cell_type": "code",
      "metadata": {
        "id": "nVo1zQBAvBQj",
        "colab_type": "code",
        "colab": {},
        "outputId": "8399f5f9-8559-41e7-b092-352d958cdc76"
      },
      "source": [
        "rate_gsdp.iloc[1]['Per Capita GSDP (Rs.)']/rate_gsdp.iloc[-1]['Per Capita GSDP (Rs.)']\n"
      ],
      "execution_count": 0,
      "outputs": [
        {
          "output_type": "execute_result",
          "data": {
            "text/plain": [
              "7.076456382164104"
            ]
          },
          "metadata": {
            "tags": []
          },
          "execution_count": 11
        }
      ]
    },
    {
      "cell_type": "markdown",
      "metadata": {
        "id": "5P1RqtINvBQm",
        "colab_type": "text"
      },
      "source": [
        "<h3>Percentage Contribution of Sectors in GDP</h3>"
      ]
    },
    {
      "cell_type": "code",
      "metadata": {
        "id": "GafSDtPqvBQn",
        "colab_type": "code",
        "colab": {},
        "outputId": "4bbae941-f1b6-4bcd-b600-50e4b332e726"
      },
      "source": [
        "prim=pd.DataFrame((df_states_GDP['Primary']/df_states_GDP['Gross State Domestic Product'])*100)\n",
        "secon=pd.DataFrame((df_states_GDP['Secondary']/df_states_GDP['Gross State Domestic Product'])*100)\n",
        "terti=pd.DataFrame((df_states_GDP['Secondary']/df_states_GDP['Gross State Domestic Product'])*100)\n",
        "\n",
        "sector_contributions=pd.concat([prim,secon,terti],axis=1)\n",
        "sector_contributions.columns=['primary','secondary','tertiary']\n",
        "sector_contributions.head()  # dataframe for percentage contribution of states to various sectors\n",
        "\n",
        "\n"
      ],
      "execution_count": 0,
      "outputs": [
        {
          "output_type": "execute_result",
          "data": {
            "text/html": [
              "<div>\n",
              "<style scoped>\n",
              "    .dataframe tbody tr th:only-of-type {\n",
              "        vertical-align: middle;\n",
              "    }\n",
              "\n",
              "    .dataframe tbody tr th {\n",
              "        vertical-align: top;\n",
              "    }\n",
              "\n",
              "    .dataframe thead th {\n",
              "        text-align: right;\n",
              "    }\n",
              "</style>\n",
              "<table border=\"1\" class=\"dataframe\">\n",
              "  <thead>\n",
              "    <tr style=\"text-align: right;\">\n",
              "      <th></th>\n",
              "      <th>primary</th>\n",
              "      <th>secondary</th>\n",
              "      <th>tertiary</th>\n",
              "    </tr>\n",
              "  </thead>\n",
              "  <tbody>\n",
              "    <tr>\n",
              "      <th>Andhra Pradesh</th>\n",
              "      <td>30.968080</td>\n",
              "      <td>19.923102</td>\n",
              "      <td>19.923102</td>\n",
              "    </tr>\n",
              "    <tr>\n",
              "      <th>Arunachal Pradesh</th>\n",
              "      <td>42.774946</td>\n",
              "      <td>17.152064</td>\n",
              "      <td>17.152064</td>\n",
              "    </tr>\n",
              "    <tr>\n",
              "      <th>Assam</th>\n",
              "      <td>26.889201</td>\n",
              "      <td>20.359070</td>\n",
              "      <td>20.359070</td>\n",
              "    </tr>\n",
              "    <tr>\n",
              "      <th>Bihar</th>\n",
              "      <td>21.448437</td>\n",
              "      <td>16.005825</td>\n",
              "      <td>16.005825</td>\n",
              "    </tr>\n",
              "    <tr>\n",
              "      <th>chattisgarh</th>\n",
              "      <td>27.239629</td>\n",
              "      <td>35.061805</td>\n",
              "      <td>35.061805</td>\n",
              "    </tr>\n",
              "  </tbody>\n",
              "</table>\n",
              "</div>"
            ],
            "text/plain": [
              "                     primary  secondary   tertiary\n",
              "Andhra Pradesh     30.968080  19.923102  19.923102\n",
              "Arunachal Pradesh  42.774946  17.152064  17.152064\n",
              "Assam              26.889201  20.359070  20.359070\n",
              "Bihar              21.448437  16.005825  16.005825\n",
              "chattisgarh        27.239629  35.061805  35.061805"
            ]
          },
          "metadata": {
            "tags": []
          },
          "execution_count": 12
        }
      ]
    },
    {
      "cell_type": "code",
      "metadata": {
        "id": "gOlJkabGvBQt",
        "colab_type": "code",
        "colab": {},
        "outputId": "b10afe0d-54f4-460a-c736-efe98814e4da"
      },
      "source": [
        "sector_contributions.plot(kind='bar',figsize=(9,9)) #plot for sector contribution to GSDP\n",
        "plt.title('% Contribution of different sectors in GDP of States',fontsize=15)\n",
        "plt.ylabel('contribution to GDP (%)')\n",
        "plt.show()\n"
      ],
      "execution_count": 0,
      "outputs": [
        {
          "output_type": "display_data",
          "data": {
            "image/png": "[encoded data removed]",
            "text/plain": [
              "<Figure size 648x648 with 1 Axes>"
            ]
          },
          "metadata": {
            "tags": [],
            "needs_background": "light"
          }
        }
      ]
    },
    {
      "cell_type": "code",
      "metadata": {
        "id": "vCW2-IzjvBQy",
        "colab_type": "code",
        "colab": {},
        "outputId": "1b6da9b3-ab25-4378-999a-1f205a71ea3c"
      },
      "source": [
        "per_capita_GDP=df_states_GDP['Per Capita GSDP (Rs.)']\n",
        "df_states_GDP['Category']=pd.qcut(per_capita_GDP,[0.0,0.20,0.50,0.85,1.00],labels=['C4','C3','C2','C1'])\n",
        "df_subcategory=df_states_GDP.groupby(['Category']).sum()\n",
        "df_subcategory=df_subcategory.drop(['Primary','Secondary','Tertiary','TOTAL GSVA at basic prices','Taxes on Products',\n",
        "                             'Subsidies on products',\"Population ('00)\",\"Per Capita GSDP (Rs.)\"],axis=1)\n",
        "df_states_GDP.head() # assigning category to each state"
      ],
      "execution_count": 0,
      "outputs": [
        {
          "output_type": "execute_result",
          "data": {
            "text/html": [
              "<div>\n",
              "<style scoped>\n",
              "    .dataframe tbody tr th:only-of-type {\n",
              "        vertical-align: middle;\n",
              "    }\n",
              "\n",
              "    .dataframe tbody tr th {\n",
              "        vertical-align: top;\n",
              "    }\n",
              "\n",
              "    .dataframe thead th {\n",
              "        text-align: right;\n",
              "    }\n",
              "</style>\n",
              "<table border=\"1\" class=\"dataframe\">\n",
              "  <thead>\n",
              "    <tr style=\"text-align: right;\">\n",
              "      <th></th>\n",
              "      <th>Agriculture, forestry and fishing</th>\n",
              "      <th>Crops</th>\n",
              "      <th>Livestock</th>\n",
              "      <th>Forestry and logging</th>\n",
              "      <th>Fishing and aquaculture</th>\n",
              "      <th>Mining and quarrying</th>\n",
              "      <th>Primary</th>\n",
              "      <th>Manufacturing</th>\n",
              "      <th>Electricity, gas, water supply &amp; other utility services</th>\n",
              "      <th>Construction</th>\n",
              "      <th>...</th>\n",
              "      <th>Public administration</th>\n",
              "      <th>Other services</th>\n",
              "      <th>Tertiary</th>\n",
              "      <th>TOTAL GSVA at basic prices</th>\n",
              "      <th>Taxes on Products</th>\n",
              "      <th>Subsidies on products</th>\n",
              "      <th>Gross State Domestic Product</th>\n",
              "      <th>Population ('00)</th>\n",
              "      <th>Per Capita GSDP (Rs.)</th>\n",
              "      <th>Category</th>\n",
              "    </tr>\n",
              "  </thead>\n",
              "  <tbody>\n",
              "    <tr>\n",
              "      <th>Andhra Pradesh</th>\n",
              "      <td>14819416.0</td>\n",
              "      <td>7893514.0</td>\n",
              "      <td>4309078.0</td>\n",
              "      <td>346160.0</td>\n",
              "      <td>2270664.0</td>\n",
              "      <td>1484300.0</td>\n",
              "      <td>16303716.0</td>\n",
              "      <td>4672266.0</td>\n",
              "      <td>1151729.0</td>\n",
              "      <td>4664889.0</td>\n",
              "      <td>...</td>\n",
              "      <td>2200897.0</td>\n",
              "      <td>4215389.0</td>\n",
              "      <td>22032942.0</td>\n",
              "      <td>48825542.0</td>\n",
              "      <td>5512100.0</td>\n",
              "      <td>1690800.0</td>\n",
              "      <td>52646842.0</td>\n",
              "      <td>501510.0</td>\n",
              "      <td>104977.0</td>\n",
              "      <td>C3</td>\n",
              "    </tr>\n",
              "    <tr>\n",
              "      <th>Arunachal Pradesh</th>\n",
              "      <td>686117.0</td>\n",
              "      <td>415520.0</td>\n",
              "      <td>38387.0</td>\n",
              "      <td>224017.0</td>\n",
              "      <td>8193.0</td>\n",
              "      <td>30842.0</td>\n",
              "      <td>716959.0</td>\n",
              "      <td>26120.0</td>\n",
              "      <td>113527.0</td>\n",
              "      <td>147842.0</td>\n",
              "      <td>...</td>\n",
              "      <td>243867.0</td>\n",
              "      <td>218728.0</td>\n",
              "      <td>631844.0</td>\n",
              "      <td>1636292.0</td>\n",
              "      <td>70099.0</td>\n",
              "      <td>30272.0</td>\n",
              "      <td>1676119.0</td>\n",
              "      <td>14870.0</td>\n",
              "      <td>112718.0</td>\n",
              "      <td>C2</td>\n",
              "    </tr>\n",
              "    <tr>\n",
              "      <th>Assam</th>\n",
              "      <td>3855548.0</td>\n",
              "      <td>2890544.0</td>\n",
              "      <td>173478.0</td>\n",
              "      <td>261987.0</td>\n",
              "      <td>529539.0</td>\n",
              "      <td>1471149.0</td>\n",
              "      <td>5326697.0</td>\n",
              "      <td>2002936.0</td>\n",
              "      <td>296587.0</td>\n",
              "      <td>1733568.0</td>\n",
              "      <td>...</td>\n",
              "      <td>1373611.0</td>\n",
              "      <td>1795658.0</td>\n",
              "      <td>9307109.0</td>\n",
              "      <td>18666897.0</td>\n",
              "      <td>1725309.0</td>\n",
              "      <td>582406.0</td>\n",
              "      <td>19809800.0</td>\n",
              "      <td>326780.0</td>\n",
              "      <td>60621.0</td>\n",
              "      <td>C4</td>\n",
              "    </tr>\n",
              "    <tr>\n",
              "      <th>Bihar</th>\n",
              "      <td>7951890.0</td>\n",
              "      <td>4688237.0</td>\n",
              "      <td>2060296.0</td>\n",
              "      <td>550132.0</td>\n",
              "      <td>653224.0</td>\n",
              "      <td>68107.0</td>\n",
              "      <td>8019997.0</td>\n",
              "      <td>2189965.0</td>\n",
              "      <td>345168.0</td>\n",
              "      <td>3449763.0</td>\n",
              "      <td>...</td>\n",
              "      <td>2078171.0</td>\n",
              "      <td>4587589.0</td>\n",
              "      <td>22179969.0</td>\n",
              "      <td>36184863.0</td>\n",
              "      <td>3213546.0</td>\n",
              "      <td>2006421.0</td>\n",
              "      <td>37391988.0</td>\n",
              "      <td>1101240.0</td>\n",
              "      <td>33954.0</td>\n",
              "      <td>C4</td>\n",
              "    </tr>\n",
              "    <tr>\n",
              "      <th>chattisgarh</th>\n",
              "      <td>3948847.0</td>\n",
              "      <td>2613371.0</td>\n",
              "      <td>352208.0</td>\n",
              "      <td>597785.0</td>\n",
              "      <td>385483.0</td>\n",
              "      <td>2451970.0</td>\n",
              "      <td>6400817.0</td>\n",
              "      <td>4370593.0</td>\n",
              "      <td>1198438.0</td>\n",
              "      <td>2669855.0</td>\n",
              "      <td>...</td>\n",
              "      <td>867982.0</td>\n",
              "      <td>1112232.0</td>\n",
              "      <td>7588778.0</td>\n",
              "      <td>22228481.0</td>\n",
              "      <td>2601791.0</td>\n",
              "      <td>1332092.0</td>\n",
              "      <td>23498180.0</td>\n",
              "      <td>270530.0</td>\n",
              "      <td>86860.0</td>\n",
              "      <td>C3</td>\n",
              "    </tr>\n",
              "  </tbody>\n",
              "</table>\n",
              "<p>5 rows × 34 columns</p>\n",
              "</div>"
            ],
            "text/plain": [
              "0                  Agriculture, forestry and fishing      Crops  Livestock  \\\n",
              "Andhra Pradesh                            14819416.0  7893514.0  4309078.0   \n",
              "Arunachal Pradesh                           686117.0   415520.0    38387.0   \n",
              "Assam                                      3855548.0  2890544.0   173478.0   \n",
              "Bihar                                      7951890.0  4688237.0  2060296.0   \n",
              "chattisgarh                                3948847.0  2613371.0   352208.0   \n",
              "\n",
              "0                  Forestry and logging  Fishing and aquaculture  \\\n",
              "Andhra Pradesh                 346160.0                2270664.0   \n",
              "Arunachal Pradesh              224017.0                   8193.0   \n",
              "Assam                          261987.0                 529539.0   \n",
              "Bihar                          550132.0                 653224.0   \n",
              "chattisgarh                    597785.0                 385483.0   \n",
              "\n",
              "0                  Mining and quarrying     Primary  Manufacturing  \\\n",
              "Andhra Pradesh                1484300.0  16303716.0      4672266.0   \n",
              "Arunachal Pradesh               30842.0    716959.0        26120.0   \n",
              "Assam                         1471149.0   5326697.0      2002936.0   \n",
              "Bihar                           68107.0   8019997.0      2189965.0   \n",
              "chattisgarh                   2451970.0   6400817.0      4370593.0   \n",
              "\n",
              "0                  Electricity, gas, water supply & other utility services  \\\n",
              "Andhra Pradesh                                             1151729.0         \n",
              "Arunachal Pradesh                                           113527.0         \n",
              "Assam                                                       296587.0         \n",
              "Bihar                                                       345168.0         \n",
              "chattisgarh                                                1198438.0         \n",
              "\n",
              "0                  Construction  ...  Public administration  Other services  \\\n",
              "Andhra Pradesh        4664889.0  ...              2200897.0       4215389.0   \n",
              "Arunachal Pradesh      147842.0  ...               243867.0        218728.0   \n",
              "Assam                 1733568.0  ...              1373611.0       1795658.0   \n",
              "Bihar                 3449763.0  ...              2078171.0       4587589.0   \n",
              "chattisgarh           2669855.0  ...               867982.0       1112232.0   \n",
              "\n",
              "0                    Tertiary  TOTAL GSVA at basic prices  Taxes on Products  \\\n",
              "Andhra Pradesh     22032942.0                  48825542.0          5512100.0   \n",
              "Arunachal Pradesh    631844.0                   1636292.0            70099.0   \n",
              "Assam               9307109.0                  18666897.0          1725309.0   \n",
              "Bihar              22179969.0                  36184863.0          3213546.0   \n",
              "chattisgarh         7588778.0                  22228481.0          2601791.0   \n",
              "\n",
              "0                  Subsidies on products  Gross State Domestic Product  \\\n",
              "Andhra Pradesh                 1690800.0                    52646842.0   \n",
              "Arunachal Pradesh                30272.0                     1676119.0   \n",
              "Assam                           582406.0                    19809800.0   \n",
              "Bihar                          2006421.0                    37391988.0   \n",
              "chattisgarh                    1332092.0                    23498180.0   \n",
              "\n",
              "0                  Population ('00)  Per Capita GSDP (Rs.)  Category  \n",
              "Andhra Pradesh             501510.0               104977.0        C3  \n",
              "Arunachal Pradesh           14870.0               112718.0        C2  \n",
              "Assam                      326780.0                60621.0        C4  \n",
              "Bihar                     1101240.0                33954.0        C4  \n",
              "chattisgarh                270530.0                86860.0        C3  \n",
              "\n",
              "[5 rows x 34 columns]"
            ]
          },
          "metadata": {
            "tags": []
          },
          "execution_count": 14
        }
      ]
    },
    {
      "cell_type": "code",
      "metadata": {
        "id": "y-fZbEHEvBQ1",
        "colab_type": "code",
        "colab": {},
        "outputId": "4dccae92-9761-4b79-ebae-345ce4e182ee"
      },
      "source": [
        "df_subcategory.head() # dataframe on GSDP from categories and respective sub-categories "
      ],
      "execution_count": 0,
      "outputs": [
        {
          "output_type": "execute_result",
          "data": {
            "text/html": [
              "<div>\n",
              "<style scoped>\n",
              "    .dataframe tbody tr th:only-of-type {\n",
              "        vertical-align: middle;\n",
              "    }\n",
              "\n",
              "    .dataframe tbody tr th {\n",
              "        vertical-align: top;\n",
              "    }\n",
              "\n",
              "    .dataframe thead th {\n",
              "        text-align: right;\n",
              "    }\n",
              "</style>\n",
              "<table border=\"1\" class=\"dataframe\">\n",
              "  <thead>\n",
              "    <tr style=\"text-align: right;\">\n",
              "      <th></th>\n",
              "      <th>Agriculture, forestry and fishing</th>\n",
              "      <th>Crops</th>\n",
              "      <th>Livestock</th>\n",
              "      <th>Forestry and logging</th>\n",
              "      <th>Fishing and aquaculture</th>\n",
              "      <th>Mining and quarrying</th>\n",
              "      <th>Manufacturing</th>\n",
              "      <th>Electricity, gas, water supply &amp; other utility services</th>\n",
              "      <th>Construction</th>\n",
              "      <th>Trade, repair, hotels and restaurants</th>\n",
              "      <th>...</th>\n",
              "      <th>Water transport</th>\n",
              "      <th>Air transport</th>\n",
              "      <th>Services incidental to transport</th>\n",
              "      <th>Storage</th>\n",
              "      <th>Communication &amp; services related to broadcasting</th>\n",
              "      <th>Financial services</th>\n",
              "      <th>Real estate, ownership of dwelling &amp; professional services</th>\n",
              "      <th>Public administration</th>\n",
              "      <th>Other services</th>\n",
              "      <th>Gross State Domestic Product</th>\n",
              "    </tr>\n",
              "    <tr>\n",
              "      <th>Category</th>\n",
              "      <th></th>\n",
              "      <th></th>\n",
              "      <th></th>\n",
              "      <th></th>\n",
              "      <th></th>\n",
              "      <th></th>\n",
              "      <th></th>\n",
              "      <th></th>\n",
              "      <th></th>\n",
              "      <th></th>\n",
              "      <th></th>\n",
              "      <th></th>\n",
              "      <th></th>\n",
              "      <th></th>\n",
              "      <th></th>\n",
              "      <th></th>\n",
              "      <th></th>\n",
              "      <th></th>\n",
              "      <th></th>\n",
              "      <th></th>\n",
              "      <th></th>\n",
              "    </tr>\n",
              "  </thead>\n",
              "  <tbody>\n",
              "    <tr>\n",
              "      <th>C4</th>\n",
              "      <td>56735044.0</td>\n",
              "      <td>39331055.0</td>\n",
              "      <td>11901405.0</td>\n",
              "      <td>3673623.0</td>\n",
              "      <td>1828960.0</td>\n",
              "      <td>6096419.0</td>\n",
              "      <td>24987032.0</td>\n",
              "      <td>4310264.0</td>\n",
              "      <td>22775948.0</td>\n",
              "      <td>27484595.0</td>\n",
              "      <td>...</td>\n",
              "      <td>7411</td>\n",
              "      <td>116154.0</td>\n",
              "      <td>275233.0</td>\n",
              "      <td>221940.0</td>\n",
              "      <td>4462395.0</td>\n",
              "      <td>7684498.0</td>\n",
              "      <td>24177534.0</td>\n",
              "      <td>13486630.0</td>\n",
              "      <td>15859015.0</td>\n",
              "      <td>233252066.0</td>\n",
              "    </tr>\n",
              "    <tr>\n",
              "      <th>C3</th>\n",
              "      <td>42226888.0</td>\n",
              "      <td>23676317.0</td>\n",
              "      <td>11135794.0</td>\n",
              "      <td>4045895.0</td>\n",
              "      <td>3368881.0</td>\n",
              "      <td>10835771.0</td>\n",
              "      <td>22038331.0</td>\n",
              "      <td>4604774.0</td>\n",
              "      <td>15707921.0</td>\n",
              "      <td>17245309.0</td>\n",
              "      <td>...</td>\n",
              "      <td>145480</td>\n",
              "      <td>58970.0</td>\n",
              "      <td>1039231.0</td>\n",
              "      <td>75393.0</td>\n",
              "      <td>3050206.0</td>\n",
              "      <td>5766226.0</td>\n",
              "      <td>16224118.0</td>\n",
              "      <td>7927173.0</td>\n",
              "      <td>12815417.0</td>\n",
              "      <td>177966387.0</td>\n",
              "    </tr>\n",
              "    <tr>\n",
              "      <th>C2</th>\n",
              "      <td>75209022.0</td>\n",
              "      <td>47550095.0</td>\n",
              "      <td>19363891.0</td>\n",
              "      <td>5603213.0</td>\n",
              "      <td>2691822.0</td>\n",
              "      <td>10373346.0</td>\n",
              "      <td>109196530.0</td>\n",
              "      <td>13823378.0</td>\n",
              "      <td>40653562.0</td>\n",
              "      <td>61238862.0</td>\n",
              "      <td>...</td>\n",
              "      <td>318192</td>\n",
              "      <td>659841.0</td>\n",
              "      <td>5343732.0</td>\n",
              "      <td>368515.0</td>\n",
              "      <td>9408861.0</td>\n",
              "      <td>36296642.0</td>\n",
              "      <td>92121446.0</td>\n",
              "      <td>18567815.0</td>\n",
              "      <td>36253657.0</td>\n",
              "      <td>586380452.0</td>\n",
              "    </tr>\n",
              "    <tr>\n",
              "      <th>C1</th>\n",
              "      <td>14391809.0</td>\n",
              "      <td>7962514.0</td>\n",
              "      <td>4619756.0</td>\n",
              "      <td>872335.0</td>\n",
              "      <td>937204.0</td>\n",
              "      <td>588961.0</td>\n",
              "      <td>13758793.0</td>\n",
              "      <td>2000998.0</td>\n",
              "      <td>11264451.0</td>\n",
              "      <td>13995159.0</td>\n",
              "      <td>...</td>\n",
              "      <td>44776</td>\n",
              "      <td>171388.0</td>\n",
              "      <td>281108.0</td>\n",
              "      <td>18106.0</td>\n",
              "      <td>1420517.0</td>\n",
              "      <td>3936489.0</td>\n",
              "      <td>14740245.0</td>\n",
              "      <td>3571292.0</td>\n",
              "      <td>8059922.0</td>\n",
              "      <td>101930677.0</td>\n",
              "    </tr>\n",
              "  </tbody>\n",
              "</table>\n",
              "<p>4 rows × 25 columns</p>\n",
              "</div>"
            ],
            "text/plain": [
              "0         Agriculture, forestry and fishing       Crops   Livestock  \\\n",
              "Category                                                              \n",
              "C4                               56735044.0  39331055.0  11901405.0   \n",
              "C3                               42226888.0  23676317.0  11135794.0   \n",
              "C2                               75209022.0  47550095.0  19363891.0   \n",
              "C1                               14391809.0   7962514.0   4619756.0   \n",
              "\n",
              "0         Forestry and logging  Fishing and aquaculture  Mining and quarrying  \\\n",
              "Category                                                                        \n",
              "C4                   3673623.0                1828960.0             6096419.0   \n",
              "C3                   4045895.0                3368881.0            10835771.0   \n",
              "C2                   5603213.0                2691822.0            10373346.0   \n",
              "C1                    872335.0                 937204.0              588961.0   \n",
              "\n",
              "0         Manufacturing  \\\n",
              "Category                  \n",
              "C4           24987032.0   \n",
              "C3           22038331.0   \n",
              "C2          109196530.0   \n",
              "C1           13758793.0   \n",
              "\n",
              "0         Electricity, gas, water supply & other utility services  \\\n",
              "Category                                                            \n",
              "C4                                                4310264.0         \n",
              "C3                                                4604774.0         \n",
              "C2                                               13823378.0         \n",
              "C1                                                2000998.0         \n",
              "\n",
              "0         Construction  Trade, repair, hotels and restaurants  ...  \\\n",
              "Category                                                       ...   \n",
              "C4          22775948.0                             27484595.0  ...   \n",
              "C3          15707921.0                             17245309.0  ...   \n",
              "C2          40653562.0                             61238862.0  ...   \n",
              "C1          11264451.0                             13995159.0  ...   \n",
              "\n",
              "0         Water transport  Air transport  Services incidental to transport  \\\n",
              "Category                                                                     \n",
              "C4                   7411       116154.0                          275233.0   \n",
              "C3                 145480        58970.0                         1039231.0   \n",
              "C2                 318192       659841.0                         5343732.0   \n",
              "C1                  44776       171388.0                          281108.0   \n",
              "\n",
              "0          Storage  Communication & services related to broadcasting  \\\n",
              "Category                                                               \n",
              "C4        221940.0                                         4462395.0   \n",
              "C3         75393.0                                         3050206.0   \n",
              "C2        368515.0                                         9408861.0   \n",
              "C1         18106.0                                         1420517.0   \n",
              "\n",
              "0         Financial services  \\\n",
              "Category                       \n",
              "C4                 7684498.0   \n",
              "C3                 5766226.0   \n",
              "C2                36296642.0   \n",
              "C1                 3936489.0   \n",
              "\n",
              "0         Real estate, ownership of dwelling & professional services  \\\n",
              "Category                                                               \n",
              "C4                                               24177534.0            \n",
              "C3                                               16224118.0            \n",
              "C2                                               92121446.0            \n",
              "C1                                               14740245.0            \n",
              "\n",
              "0         Public administration  Other services  Gross State Domestic Product  \n",
              "Category                                                                       \n",
              "C4                   13486630.0      15859015.0                   233252066.0  \n",
              "C3                    7927173.0      12815417.0                   177966387.0  \n",
              "C2                   18567815.0      36253657.0                   586380452.0  \n",
              "C1                    3571292.0       8059922.0                   101930677.0  \n",
              "\n",
              "[4 rows x 25 columns]"
            ]
          },
          "metadata": {
            "tags": []
          },
          "execution_count": 15
        }
      ]
    },
    {
      "cell_type": "code",
      "metadata": {
        "id": "zyDa7RbevBQ5",
        "colab_type": "code",
        "colab": {},
        "outputId": "54b8fe0d-861d-4ea5-f67b-5ad3651a92c1"
      },
      "source": [
        "df_states_GDP['Category'].value_counts().plot(kind='bar',color=\"c\")\n",
        "plt.title(\"Number of States under each Category\")\n",
        "plt.show()"
      ],
      "execution_count": 0,
      "outputs": [
        {
          "output_type": "display_data",
          "data": {
            "image/png": "[encoded data removed]",
            "text/plain": [
              "<Figure size 432x288 with 1 Axes>"
            ]
          },
          "metadata": {
            "tags": [],
            "needs_background": "light"
          }
        }
      ]
    },
    {
      "cell_type": "code",
      "metadata": {
        "id": "SqzgnsttvBQ_",
        "colab_type": "code",
        "colab": {}
      },
      "source": [
        "import operator\n",
        "import collections as cs\n",
        "category_dict={}\n",
        "def get_sub_sector_list(a): #defining a method for returning a list of sub-sectors which contribute 80% to GSDP\n",
        "  \n",
        "    for x in df_subcategory.columns[:-1]:\n",
        "        \n",
        "        category_dict.update({x:round(df_subcategory.loc[a][x]/df_subcategory.loc['C4']['Gross State Domestic Product'] * 100,2)})\n",
        "    \n",
        "    sorted_category_dict = sorted(category_dict.items(), key=operator.itemgetter(1),reverse=True)\n",
        "    sorted_category_dict=dict(sorted_category_dict)\n",
        "    sub_sector=[]\n",
        "    total=0\n",
        "    for key,value in sorted_category_dict.items():\n",
        "        total=total+value\n",
        "        sub_sector.append(key)\n",
        "        if(total>80): \n",
        "            break\n",
        "    return sub_sector \n",
        "\n",
        "def get_sub_sector_share(a): #defining a method for returning shares/% contribution from sub-sectors \n",
        "  \n",
        "    for x in df_subcategory.columns[:-1]:\n",
        "        \n",
        "        category_dict.update({x:round(df_subcategory.loc[a][x]/df_subcategory.loc['C4']['Gross State Domestic Product'] * 100,2)})\n",
        "    \n",
        "    sorted_category_dict = sorted(category_dict.items(), key=operator.itemgetter(1),reverse=True)\n",
        "    sorted_category_dict=dict(sorted_category_dict)\n",
        "    return sorted_category_dict # return list of subsectors whose contribution to GSDP is approx\n",
        "         \n",
        "   "
      ],
      "execution_count": 0,
      "outputs": []
    },
    {
      "cell_type": "markdown",
      "metadata": {
        "id": "Pj2outUtvBRE",
        "colab_type": "text"
      },
      "source": [
        "<h3> list of subsectors in category C1 contributing to approx 80% of GDP </h3>\n"
      ]
    },
    {
      "cell_type": "code",
      "metadata": {
        "id": "dXk8OnnCvBRF",
        "colab_type": "code",
        "colab": {},
        "outputId": "f7093a0e-98e6-47e6-e61a-2c4d245b5bca"
      },
      "source": [
        "sub_sector_C1=get_sub_sector_list('C1')\n",
        "sub_sector_C1 #list of subsectors in category C1 contributing to approx 80% of GDP\n"
      ],
      "execution_count": 0,
      "outputs": [
        {
          "output_type": "execute_result",
          "data": {
            "text/plain": [
              "['Real estate, ownership of dwelling & professional services',\n",
              " 'Agriculture, forestry and fishing',\n",
              " 'Trade, repair, hotels and restaurants',\n",
              " 'Manufacturing',\n",
              " 'Trade & repair services',\n",
              " 'Construction',\n",
              " 'Other services',\n",
              " 'Crops',\n",
              " 'Transport, storage, communication & services related to broadcasting',\n",
              " 'Livestock',\n",
              " 'Road transport',\n",
              " 'Financial services',\n",
              " 'Public administration',\n",
              " 'Electricity, gas, water supply & other utility services',\n",
              " 'Communication & services related to broadcasting',\n",
              " 'Hotels & restaurants',\n",
              " 'Fishing and aquaculture',\n",
              " 'Forestry and logging',\n",
              " 'Mining and quarrying',\n",
              " 'Railways',\n",
              " 'Services incidental to transport',\n",
              " 'Air transport',\n",
              " 'Water transport',\n",
              " 'Storage']"
            ]
          },
          "metadata": {
            "tags": []
          },
          "execution_count": 18
        }
      ]
    },
    {
      "cell_type": "code",
      "metadata": {
        "id": "qRVFbCFqvBRN",
        "colab_type": "code",
        "colab": {},
        "outputId": "c9bad665-2752-454f-cf37-b024850c5133"
      },
      "source": [
        "c1_data_subsector=pd.DataFrame(get_sub_sector_share('C1').items())\n",
        "c1_data_subsector.columns=['Sub-Sector','Share(in %)']\n",
        "fig_ax=plt.figure(figsize=[8,8])\n",
        "sns.barplot(y=c1_data_subsector['Sub-Sector'],x=c1_data_subsector['Share(in %)'])\n",
        "plt.title('% Share of Sub-sectors to GSDP in C1')\n",
        "plt.show()"
      ],
      "execution_count": 0,
      "outputs": [
        {
          "output_type": "display_data",
          "data": {
            "image/png": "[encoded data removed]",
            "text/plain": [
              "<Figure size 576x576 with 1 Axes>"
            ]
          },
          "metadata": {
            "tags": [],
            "needs_background": "light"
          }
        }
      ]
    },
    {
      "cell_type": "markdown",
      "metadata": {
        "id": "TewNHI5_vBRV",
        "colab_type": "text"
      },
      "source": [
        "<h3> list of subsectors in category C2 contributing to approx 80% of GDP </h3>"
      ]
    },
    {
      "cell_type": "code",
      "metadata": {
        "id": "Blm2sZo2vBRW",
        "colab_type": "code",
        "colab": {},
        "outputId": "da7aa639-4559-4179-9efd-73ad27929642"
      },
      "source": [
        "sub_sector_C2=get_sub_sector_list('C2')\n",
        "sub_sector_C2 #list of subsectors in category C2 contributing to approx 80% of GDP\n"
      ],
      "execution_count": 0,
      "outputs": [
        {
          "output_type": "execute_result",
          "data": {
            "text/plain": [
              "['Manufacturing', 'Real estate, ownership of dwelling & professional services']"
            ]
          },
          "metadata": {
            "tags": []
          },
          "execution_count": 20
        }
      ]
    },
    {
      "cell_type": "code",
      "metadata": {
        "id": "kay2zYEAvBRZ",
        "colab_type": "code",
        "colab": {},
        "outputId": "6548030b-652e-4c7e-c366-aff02b320699"
      },
      "source": [
        "c2_data_subsector=pd.DataFrame(get_sub_sector_share('C2').items())\n",
        "c2_data_subsector.columns=['Sub-Sector','Share(in %)']\n",
        "fig_ax=plt.figure(figsize=[8,8])\n",
        "sns.barplot(y=c2_data_subsector['Sub-Sector'],x=c2_data_subsector['Share(in %)'])\n",
        "plt.title('% Share of Sub-sectors to GSDP in C2')\n",
        "plt.show()"
      ],
      "execution_count": 0,
      "outputs": [
        {
          "output_type": "display_data",
          "data": {
            "image/png": "[encoded data removed]",
            "text/plain": [
              "<Figure size 576x576 with 1 Axes>"
            ]
          },
          "metadata": {
            "tags": [],
            "needs_background": "light"
          }
        }
      ]
    },
    {
      "cell_type": "markdown",
      "metadata": {
        "id": "YbRnSYyQvBRd",
        "colab_type": "text"
      },
      "source": [
        "<h3> list of subsectors in category C3 contributing to approx 80% of GDP </h3>"
      ]
    },
    {
      "cell_type": "code",
      "metadata": {
        "id": "f-LfDiIkvBRe",
        "colab_type": "code",
        "colab": {},
        "outputId": "be4a3a1b-b68c-4272-b482-833965f82d7e"
      },
      "source": [
        "sub_sector_C3=get_sub_sector_list('C3')\n",
        "sub_sector_C3 #list of subsectors in category C3 contributing to approx 80% of GDP"
      ],
      "execution_count": 0,
      "outputs": [
        {
          "output_type": "execute_result",
          "data": {
            "text/plain": [
              "['Agriculture, forestry and fishing',\n",
              " 'Crops',\n",
              " 'Manufacturing',\n",
              " 'Trade, repair, hotels and restaurants',\n",
              " 'Real estate, ownership of dwelling & professional services',\n",
              " 'Trade & repair services',\n",
              " 'Construction',\n",
              " 'Other services',\n",
              " 'Transport, storage, communication & services related to broadcasting',\n",
              " 'Livestock']"
            ]
          },
          "metadata": {
            "tags": []
          },
          "execution_count": 22
        }
      ]
    },
    {
      "cell_type": "code",
      "metadata": {
        "id": "nYpKYkirvBRl",
        "colab_type": "code",
        "colab": {},
        "outputId": "a6077397-439b-4d7f-fcae-bc1559de19ef"
      },
      "source": [
        "c3_data_subsector=pd.DataFrame(get_sub_sector_share('C3').items())\n",
        "c3_data_subsector.columns=['Sub-Sector','Share(in %)']\n",
        "fig_ax=plt.figure(figsize=[8,8])\n",
        "sns.barplot(y=c3_data_subsector['Sub-Sector'],x=c3_data_subsector['Share(in %)'])\n",
        "plt.title('% Share of Sub-sectors to GSDP in C3')\n",
        "plt.show()"
      ],
      "execution_count": 0,
      "outputs": [
        {
          "output_type": "display_data",
          "data": {
            "image/png": "[encoded data removed]",
            "text/plain": [
              "<Figure size 576x576 with 1 Axes>"
            ]
          },
          "metadata": {
            "tags": [],
            "needs_background": "light"
          }
        }
      ]
    },
    {
      "cell_type": "markdown",
      "metadata": {
        "id": "NFflh3VlvBRp",
        "colab_type": "text"
      },
      "source": [
        "<h3>list of subsectors in category C4 contributing to approx 80% of GDP</h3>"
      ]
    },
    {
      "cell_type": "code",
      "metadata": {
        "id": "vGJ-O5wxvBRq",
        "colab_type": "code",
        "colab": {},
        "outputId": "2a1ce62d-7173-4d3e-a16d-e952a1fb4dc0"
      },
      "source": [
        "sub_sector_C4=get_sub_sector_list('C4')\n",
        "sub_sector_C4 #list of subsectors in category C4 contributing to approx 80% of GDP"
      ],
      "execution_count": 0,
      "outputs": [
        {
          "output_type": "execute_result",
          "data": {
            "text/plain": [
              "['Agriculture, forestry and fishing',\n",
              " 'Crops',\n",
              " 'Trade, repair, hotels and restaurants',\n",
              " 'Trade & repair services',\n",
              " 'Manufacturing',\n",
              " 'Real estate, ownership of dwelling & professional services']"
            ]
          },
          "metadata": {
            "tags": []
          },
          "execution_count": 24
        }
      ]
    },
    {
      "cell_type": "code",
      "metadata": {
        "id": "kYeBOOZkvBRt",
        "colab_type": "code",
        "colab": {},
        "outputId": "bff4e338-34e1-44b4-8c4c-1d2baf11ae8c"
      },
      "source": [
        "c4_data_subsector=pd.DataFrame(get_sub_sector_share('C4').items())\n",
        "c4_data_subsector.columns=['Sub-Sector','Share(in %)']\n",
        "fig_ax=plt.figure(figsize=[8,8])\n",
        "sns.barplot(y=c4_data_subsector['Sub-Sector'],x=c4_data_subsector['Share(in %)'])\n",
        "plt.title('% Share of Sub-sectors to GSDP in C4')\n",
        "plt.show()"
      ],
      "execution_count": 0,
      "outputs": [
        {
          "output_type": "display_data",
          "data": {
            "image/png": "[encoded data removed]",
            "text/plain": [
              "<Figure size 576x576 with 1 Axes>"
            ]
          },
          "metadata": {
            "tags": [],
            "needs_background": "light"
          }
        }
      ]
    },
    {
      "cell_type": "code",
      "metadata": {
        "id": "Zu_sQkiTvBR0",
        "colab_type": "code",
        "colab": {},
        "outputId": "b4052510-2f64-458e-9d68-eccda4cfb0dd"
      },
      "source": [
        "df_subcategory_boxplot=df_subcategory.drop('Gross State Domestic Product',axis=1)\n",
        "df_subcategory_boxplot.loc['C4'].values # dataframe for boxplot \n",
        "\n",
        "fig = plt.figure(1, figsize=(8, 8))\n",
        "ax1=fig.add_subplot(111)\n",
        "bp = ax1.boxplot(df_subcategory_boxplot,patch_artist=True)\n",
        "ax1.set_xticklabels(['C4', 'C3', 'C2', 'C1'])\n",
        "ax1.set_ylabel(\"GDP Contribution of Items for all subcategories (100 million Rs)\")\n",
        "\n",
        "for box in bp['boxes']: #change box colour\n",
        "    box.set( color='#000000', linewidth=2)\n",
        "    box.set( facecolor='#1b9e77')\n",
        "    \n",
        "for median in bp['medians']: #change median value colour\n",
        "    median.set(color='#b2df8a', linewidth=2)\n",
        "    \n",
        "for whiskers in bp['whiskers']: #change whisker color\n",
        "    whiskers.set(color=\"#000000\")\n",
        "\n",
        "for caps in bp['caps']:\n",
        "    caps.set(color=\"#0000FF\")#change caps colour\n",
        "    \n",
        "plt.title(\"Distribution of Item Contribution to GSDP for categories\")    \n",
        "plt.show()\n",
        "# boxplot to show Distribution of Value of Contributions made by different sectors\n",
        "\n",
        "\n"
      ],
      "execution_count": 0,
      "outputs": [
        {
          "output_type": "display_data",
          "data": {
            "image/png": "[encoded data removed]",
            "text/plain": [
              "<Figure size 576x576 with 1 Axes>"
            ]
          },
          "metadata": {
            "tags": [],
            "needs_background": "light"
          }
        }
      ]
    },
    {
      "cell_type": "code",
      "metadata": {
        "id": "grUu1u94vBR4",
        "colab_type": "code",
        "colab": {},
        "outputId": "09d5b093-58df-49dd-8337-5d9ed92e9e35"
      },
      "source": [
        "x=df_subcategory['Gross State Domestic Product']/df_gsdp.loc['2014-15']['All_India GDP'] #all india GDP for 2014-15\n",
        "\n",
        "fig1, ax1 = plt.subplots()\n",
        "ax1.pie(x, labels=['C4','C3','C2','C1'], autopct='%1.1f%%',shadow=True, startangle=90)\n",
        "plt.title(\"% contribution to GDP of the country in year 2014-15 by each category\",fontsize=15)\n",
        "plt.show()"
      ],
      "execution_count": 0,
      "outputs": [
        {
          "output_type": "display_data",
          "data": {
            "image/png": "[encoded data removed]",
            "text/plain": [
              "<Figure size 432x288 with 1 Axes>"
            ]
          },
          "metadata": {
            "tags": []
          }
        }
      ]
    },
    {
      "cell_type": "code",
      "metadata": {
        "id": "nb3nbIM1vBR-",
        "colab_type": "code",
        "colab": {},
        "outputId": "bbb79e1e-c77b-4251-d6e1-9cf4085c64c7"
      },
      "source": [
        "df_states_GDP_corr=df_states_GDP.drop(['Primary','Secondary','Tertiary','TOTAL GSVA at basic prices','Taxes on Products',\n",
        "                                       'Subsidies on products',\"Population ('00)\",'Per Capita GSDP (Rs.)'],axis=1)\n",
        "df_states_GDP_corr.head() # dataframe for pairplot of sub-sector and gdp correlation"
      ],
      "execution_count": 0,
      "outputs": [
        {
          "output_type": "execute_result",
          "data": {
            "text/html": [
              "<div>\n",
              "<style scoped>\n",
              "    .dataframe tbody tr th:only-of-type {\n",
              "        vertical-align: middle;\n",
              "    }\n",
              "\n",
              "    .dataframe tbody tr th {\n",
              "        vertical-align: top;\n",
              "    }\n",
              "\n",
              "    .dataframe thead th {\n",
              "        text-align: right;\n",
              "    }\n",
              "</style>\n",
              "<table border=\"1\" class=\"dataframe\">\n",
              "  <thead>\n",
              "    <tr style=\"text-align: right;\">\n",
              "      <th></th>\n",
              "      <th>Agriculture, forestry and fishing</th>\n",
              "      <th>Crops</th>\n",
              "      <th>Livestock</th>\n",
              "      <th>Forestry and logging</th>\n",
              "      <th>Fishing and aquaculture</th>\n",
              "      <th>Mining and quarrying</th>\n",
              "      <th>Manufacturing</th>\n",
              "      <th>Electricity, gas, water supply &amp; other utility services</th>\n",
              "      <th>Construction</th>\n",
              "      <th>Trade, repair, hotels and restaurants</th>\n",
              "      <th>...</th>\n",
              "      <th>Air transport</th>\n",
              "      <th>Services incidental to transport</th>\n",
              "      <th>Storage</th>\n",
              "      <th>Communication &amp; services related to broadcasting</th>\n",
              "      <th>Financial services</th>\n",
              "      <th>Real estate, ownership of dwelling &amp; professional services</th>\n",
              "      <th>Public administration</th>\n",
              "      <th>Other services</th>\n",
              "      <th>Gross State Domestic Product</th>\n",
              "      <th>Category</th>\n",
              "    </tr>\n",
              "  </thead>\n",
              "  <tbody>\n",
              "    <tr>\n",
              "      <th>Andhra Pradesh</th>\n",
              "      <td>14819416.0</td>\n",
              "      <td>7893514.0</td>\n",
              "      <td>4309078.0</td>\n",
              "      <td>346160.0</td>\n",
              "      <td>2270664.0</td>\n",
              "      <td>1484300.0</td>\n",
              "      <td>4672266.0</td>\n",
              "      <td>1151729.0</td>\n",
              "      <td>4664889.0</td>\n",
              "      <td>4233400.0</td>\n",
              "      <td>...</td>\n",
              "      <td>14900.0</td>\n",
              "      <td>780200.0</td>\n",
              "      <td>18700.0</td>\n",
              "      <td>928756.0</td>\n",
              "      <td>1900863.0</td>\n",
              "      <td>4405409.0</td>\n",
              "      <td>2200897.0</td>\n",
              "      <td>4215389.0</td>\n",
              "      <td>52646842.0</td>\n",
              "      <td>C3</td>\n",
              "    </tr>\n",
              "    <tr>\n",
              "      <th>Arunachal Pradesh</th>\n",
              "      <td>686117.0</td>\n",
              "      <td>415520.0</td>\n",
              "      <td>38387.0</td>\n",
              "      <td>224017.0</td>\n",
              "      <td>8193.0</td>\n",
              "      <td>30842.0</td>\n",
              "      <td>26120.0</td>\n",
              "      <td>113527.0</td>\n",
              "      <td>147842.0</td>\n",
              "      <td>60421.0</td>\n",
              "      <td>...</td>\n",
              "      <td>0.0</td>\n",
              "      <td>109.0</td>\n",
              "      <td>0.0</td>\n",
              "      <td>19568.0</td>\n",
              "      <td>25207.0</td>\n",
              "      <td>48418.0</td>\n",
              "      <td>243867.0</td>\n",
              "      <td>218728.0</td>\n",
              "      <td>1676119.0</td>\n",
              "      <td>C2</td>\n",
              "    </tr>\n",
              "    <tr>\n",
              "      <th>Assam</th>\n",
              "      <td>3855548.0</td>\n",
              "      <td>2890544.0</td>\n",
              "      <td>173478.0</td>\n",
              "      <td>261987.0</td>\n",
              "      <td>529539.0</td>\n",
              "      <td>1471149.0</td>\n",
              "      <td>2002936.0</td>\n",
              "      <td>296587.0</td>\n",
              "      <td>1733568.0</td>\n",
              "      <td>2987155.0</td>\n",
              "      <td>...</td>\n",
              "      <td>26223.0</td>\n",
              "      <td>35739.0</td>\n",
              "      <td>10308.0</td>\n",
              "      <td>357619.0</td>\n",
              "      <td>543651.0</td>\n",
              "      <td>1412466.0</td>\n",
              "      <td>1373611.0</td>\n",
              "      <td>1795658.0</td>\n",
              "      <td>19809800.0</td>\n",
              "      <td>C4</td>\n",
              "    </tr>\n",
              "    <tr>\n",
              "      <th>Bihar</th>\n",
              "      <td>7951890.0</td>\n",
              "      <td>4688237.0</td>\n",
              "      <td>2060296.0</td>\n",
              "      <td>550132.0</td>\n",
              "      <td>653224.0</td>\n",
              "      <td>68107.0</td>\n",
              "      <td>2189965.0</td>\n",
              "      <td>345168.0</td>\n",
              "      <td>3449763.0</td>\n",
              "      <td>7448373.0</td>\n",
              "      <td>...</td>\n",
              "      <td>13599.0</td>\n",
              "      <td>166600.0</td>\n",
              "      <td>10618.0</td>\n",
              "      <td>919427.0</td>\n",
              "      <td>1178022.0</td>\n",
              "      <td>3740641.0</td>\n",
              "      <td>2078171.0</td>\n",
              "      <td>4587589.0</td>\n",
              "      <td>37391988.0</td>\n",
              "      <td>C4</td>\n",
              "    </tr>\n",
              "    <tr>\n",
              "      <th>chattisgarh</th>\n",
              "      <td>3948847.0</td>\n",
              "      <td>2613371.0</td>\n",
              "      <td>352208.0</td>\n",
              "      <td>597785.0</td>\n",
              "      <td>385483.0</td>\n",
              "      <td>2451970.0</td>\n",
              "      <td>4370593.0</td>\n",
              "      <td>1198438.0</td>\n",
              "      <td>2669855.0</td>\n",
              "      <td>1535571.0</td>\n",
              "      <td>...</td>\n",
              "      <td>9507.0</td>\n",
              "      <td>5232.0</td>\n",
              "      <td>16675.0</td>\n",
              "      <td>294552.0</td>\n",
              "      <td>739057.0</td>\n",
              "      <td>2462166.0</td>\n",
              "      <td>867982.0</td>\n",
              "      <td>1112232.0</td>\n",
              "      <td>23498180.0</td>\n",
              "      <td>C3</td>\n",
              "    </tr>\n",
              "  </tbody>\n",
              "</table>\n",
              "<p>5 rows × 26 columns</p>\n",
              "</div>"
            ],
            "text/plain": [
              "0                  Agriculture, forestry and fishing      Crops  Livestock  \\\n",
              "Andhra Pradesh                            14819416.0  7893514.0  4309078.0   \n",
              "Arunachal Pradesh                           686117.0   415520.0    38387.0   \n",
              "Assam                                      3855548.0  2890544.0   173478.0   \n",
              "Bihar                                      7951890.0  4688237.0  2060296.0   \n",
              "chattisgarh                                3948847.0  2613371.0   352208.0   \n",
              "\n",
              "0                  Forestry and logging  Fishing and aquaculture  \\\n",
              "Andhra Pradesh                 346160.0                2270664.0   \n",
              "Arunachal Pradesh              224017.0                   8193.0   \n",
              "Assam                          261987.0                 529539.0   \n",
              "Bihar                          550132.0                 653224.0   \n",
              "chattisgarh                    597785.0                 385483.0   \n",
              "\n",
              "0                  Mining and quarrying  Manufacturing  \\\n",
              "Andhra Pradesh                1484300.0      4672266.0   \n",
              "Arunachal Pradesh               30842.0        26120.0   \n",
              "Assam                         1471149.0      2002936.0   \n",
              "Bihar                           68107.0      2189965.0   \n",
              "chattisgarh                   2451970.0      4370593.0   \n",
              "\n",
              "0                  Electricity, gas, water supply & other utility services  \\\n",
              "Andhra Pradesh                                             1151729.0         \n",
              "Arunachal Pradesh                                           113527.0         \n",
              "Assam                                                       296587.0         \n",
              "Bihar                                                       345168.0         \n",
              "chattisgarh                                                1198438.0         \n",
              "\n",
              "0                  Construction  Trade, repair, hotels and restaurants  ...  \\\n",
              "Andhra Pradesh        4664889.0                              4233400.0  ...   \n",
              "Arunachal Pradesh      147842.0                                60421.0  ...   \n",
              "Assam                 1733568.0                              2987155.0  ...   \n",
              "Bihar                 3449763.0                              7448373.0  ...   \n",
              "chattisgarh           2669855.0                              1535571.0  ...   \n",
              "\n",
              "0                  Air transport  Services incidental to transport  Storage  \\\n",
              "Andhra Pradesh           14900.0                          780200.0  18700.0   \n",
              "Arunachal Pradesh            0.0                             109.0      0.0   \n",
              "Assam                    26223.0                           35739.0  10308.0   \n",
              "Bihar                    13599.0                          166600.0  10618.0   \n",
              "chattisgarh               9507.0                            5232.0  16675.0   \n",
              "\n",
              "0                  Communication & services related to broadcasting  \\\n",
              "Andhra Pradesh                                             928756.0   \n",
              "Arunachal Pradesh                                           19568.0   \n",
              "Assam                                                      357619.0   \n",
              "Bihar                                                      919427.0   \n",
              "chattisgarh                                                294552.0   \n",
              "\n",
              "0                  Financial services  \\\n",
              "Andhra Pradesh              1900863.0   \n",
              "Arunachal Pradesh             25207.0   \n",
              "Assam                        543651.0   \n",
              "Bihar                       1178022.0   \n",
              "chattisgarh                  739057.0   \n",
              "\n",
              "0                  Real estate, ownership of dwelling & professional services  \\\n",
              "Andhra Pradesh                                             4405409.0            \n",
              "Arunachal Pradesh                                            48418.0            \n",
              "Assam                                                      1412466.0            \n",
              "Bihar                                                      3740641.0            \n",
              "chattisgarh                                                2462166.0            \n",
              "\n",
              "0                  Public administration  Other services  \\\n",
              "Andhra Pradesh                 2200897.0       4215389.0   \n",
              "Arunachal Pradesh               243867.0        218728.0   \n",
              "Assam                          1373611.0       1795658.0   \n",
              "Bihar                          2078171.0       4587589.0   \n",
              "chattisgarh                     867982.0       1112232.0   \n",
              "\n",
              "0                  Gross State Domestic Product  Category  \n",
              "Andhra Pradesh                       52646842.0        C3  \n",
              "Arunachal Pradesh                     1676119.0        C2  \n",
              "Assam                                19809800.0        C4  \n",
              "Bihar                                37391988.0        C4  \n",
              "chattisgarh                          23498180.0        C3  \n",
              "\n",
              "[5 rows x 26 columns]"
            ]
          },
          "metadata": {
            "tags": []
          },
          "execution_count": 28
        }
      ]
    },
    {
      "cell_type": "markdown",
      "metadata": {
        "id": "ud-ZcmmmvBSF",
        "colab_type": "text"
      },
      "source": [
        "<h3>Top 5 Sub-sectors with high positive Correlation with GDP</h3>"
      ]
    },
    {
      "cell_type": "code",
      "metadata": {
        "id": "CDGQ62CxvBSH",
        "colab_type": "code",
        "colab": {},
        "outputId": "55f3328e-f2de-4ed4-d88c-2518008569b9"
      },
      "source": [
        "\n",
        "sub_sector_list_1=['Financial services','Public administration',\n",
        "                  'Trade & repair services','Construction','Manufacturing'] \n",
        "#top 5 subsectors with high contribution GDP\n",
        "\n",
        "sns.pairplot(df_states_GDP_corr,y_vars='Gross State Domestic Product',x_vars=sub_sector_list_1[:2]).set(xlim=(0,1e7)) \n",
        "\n",
        "sns.pairplot(df_states_GDP_corr,y_vars='Gross State Domestic Product',x_vars=sub_sector_list_1[2:5]).set(xlim=(0,1e7)) \n",
        "\n",
        "plt.show()\n"
      ],
      "execution_count": 0,
      "outputs": [
        {
          "output_type": "display_data",
          "data": {
            "image/png": "[encoded data removed]",
            "text/plain": [
              "<Figure size 360x180 with 2 Axes>"
            ]
          },
          "metadata": {
            "tags": [],
            "needs_background": "light"
          }
        },
        {
          "output_type": "display_data",
          "data": {
            "image/png": "[encoded data removed]",
            "text/plain": [
              "<Figure size 540x180 with 3 Axes>"
            ]
          },
          "metadata": {
            "tags": [],
            "needs_background": "light"
          }
        }
      ]
    },
    {
      "cell_type": "markdown",
      "metadata": {
        "id": "ceG0S30SvBSK",
        "colab_type": "text"
      },
      "source": [
        "<h3>Distribution of Items contributing to total GSDP under each category</h3>"
      ]
    },
    {
      "cell_type": "markdown",
      "metadata": {
        "id": "AMhtk_-pvBSL",
        "colab_type": "text"
      },
      "source": [
        "Some key insights obtained from the above distribution plot are:\n",
        "1. Category C2 has highest number of States,with a low median distribution.This means there is a wide spread disparity over contribution of each item to their GSDP. \n",
        "2. Category C1 has lowest number of States.But, all the sub-categories under C1 are contributing with close values to their GSDP values.\n",
        "3. C1 contributes least to  GDP of country for 2014-15 and C2 the maximum\n",
        "4. Major sub-sectors contributing to High GDP belong to tertiary and secondary sectors.\n",
        "\n",
        "<h4>How distribution of C1 is different from others?</h4>\n",
        "From the bar plot above for sub-category values under category C1,there is a uniform and less spread sub-sector contribution among the top 4 contributing sub-sectors.\n",
        "\n",
        "<h4>Sub-Sectors to be improved according to GSDP</h4>\n",
        "From the above analysis, it also seems that <i>Storage,Air-Transport,Water-Transport and services incidental to Transport</i> contribute least to GDP across all categories and hence should be improved for higher GSDP returns.\n",
        "\n",
        "<h4>Correlation of Sub-sectors with GDP</h4>\n",
        "Top 5 sub-sectors contributing to high GDP for states are:<br>\n",
        "1. Financial Services      - <i>Tertiary Sector</i> <br>\n",
        "2. Public Administration   - <i>Tertiary Sector</i> <br>\n",
        "3. Trade & repair services - <i>Tertiary Sector</i> <br>\n",
        "4. Construction            - <i>Secondary Sector</i> <br>\n",
        "5. Manufacturing           - <i>Secondary Sector</i> <br>\n",
        "\n"
      ]
    },
    {
      "cell_type": "markdown",
      "metadata": {
        "id": "A_Bg9ZK8vBSL",
        "colab_type": "text"
      },
      "source": [
        "<h3>Recommendations to each category to improve their per capita GDP:</h3><br>\n",
        "<b>C1</b>:Since, these category of States have the highest per capita GDP, so people belonging to these states should have high spending limit.But instances like hotels and restaurants,Air Transport should have more users and contribute more to the GSDP.Recommendations would be :<br>\n",
        "  1.  <b><i>Improve hotel quality and services for pulling in more customers.</i></b><br>\n",
        "  2.  <b><i>Improve availability and affordability of Air Transport for wider number of passengers travelling from             such states.</i></b><br>\n",
        "  3.  <b><i>Agricultural Awareness should be increased through various campaigns.Forest Resources should be reserved and protected and marine lakes for fishery should be cleaned and taken care as agriculture,forestry and fishing is the second highest contributor to GSDP</i></b>\n",
        "\n",
        "\n",
        "<b>C2</b>:These category has the highest number of states contributing to the GDP of the country and thereby plays a key role to the development of the country.Recommendations for these category of states would be:<br>\n",
        "  1.  <b><i>Proper Education and Training should be provided to people involved in Manufacturing Processes</i></b><br>\n",
        "  2.  <b><i>Setup of new factories and industrial belts to provide employment to the abundant people available in these areas involved in manufacturing industries.</i></b><br>\n",
        "  3.  <b><i> Agricultural and Irrigational Awareness and education to people can also help boost the contribution  from Agricultural,forestry and fishing sector.</i></b><br>\n",
        "  \n",
        "<b>C3,C4</b>:These category of states seems to rely mostly on fishery and farming. So recommendations would be:<br>\n",
        "  1. <b><i>Imparting proper knowledge of improving soil fertility , appropriate weather conditions to yield maximum amount of crops implanted is necessary</i></b>\n",
        "  2. <b><i>Good Amount of crops if harvested can also help boost the trading services, and hence appropriate measures should be taken to implement ease of trading in such states</i></b>\n",
        "  3. <b><i>Infertile/barren/Wasted Lands can be used for setting up of small-scale/large-scale industries to provide employment to the affected farmers with required education and training.This can help in improving the GSDP Contribution from the Manufacturing Sector as well, which is one of the top 5 Sectors in these categories</i></b> "
      ]
    },
    {
      "cell_type": "markdown",
      "metadata": {
        "id": "Rp3C2LkFvBSN",
        "colab_type": "text"
      },
      "source": [
        "<h2>Part II</h2>"
      ]
    },
    {
      "cell_type": "markdown",
      "metadata": {
        "id": "eBpsxyrVvBSO",
        "colab_type": "text"
      },
      "source": [
        "<h2>Analysis of Correlation between Per Capita GDP and Drop Out Rates In Education<h2>"
      ]
    },
    {
      "cell_type": "code",
      "metadata": {
        "id": "hw1If2CxvBSP",
        "colab_type": "code",
        "colab": {},
        "outputId": "d433b9f3-41a4-400f-e4da-6575c3d82cea"
      },
      "source": [
        "df_edu_drop=pd.read_csv('rs_session243_au570_1.1.csv')\n",
        "df_edu_drop.drop('Sl. No.',axis=1,inplace=True)\n",
        "df_edu_drop.drop([0,5,7,8,9,14,18,26,35,36],inplace=True) # dropping the union territories and West Bengal as not considered before\n",
        "\n",
        "df_edu_drop.set_index('Level of Education - State',inplace=True)\n",
        "\n",
        "df_edu_corr_na=df_edu_drop[['Primary - 2014-2015','Upper Primary - 2014-2015','Secondary - 2014-2015']]\n",
        "\n",
        "df_edu_corr=df_edu_corr_na.fillna(0) #dropping na values\n",
        "\n",
        "df_edu_corr['Per Capita GSDP (Rs.)']= df_states_GDP['Per Capita GSDP (Rs.)']\n",
        "\n",
        "df_edu_corr.head() # final dataset for education drop out for states in 2014-15"
      ],
      "execution_count": 0,
      "outputs": [
        {
          "output_type": "execute_result",
          "data": {
            "text/html": [
              "<div>\n",
              "<style scoped>\n",
              "    .dataframe tbody tr th:only-of-type {\n",
              "        vertical-align: middle;\n",
              "    }\n",
              "\n",
              "    .dataframe tbody tr th {\n",
              "        vertical-align: top;\n",
              "    }\n",
              "\n",
              "    .dataframe thead th {\n",
              "        text-align: right;\n",
              "    }\n",
              "</style>\n",
              "<table border=\"1\" class=\"dataframe\">\n",
              "  <thead>\n",
              "    <tr style=\"text-align: right;\">\n",
              "      <th></th>\n",
              "      <th>Primary - 2014-2015</th>\n",
              "      <th>Upper Primary - 2014-2015</th>\n",
              "      <th>Secondary - 2014-2015</th>\n",
              "      <th>Per Capita GSDP (Rs.)</th>\n",
              "    </tr>\n",
              "    <tr>\n",
              "      <th>Level of Education - State</th>\n",
              "      <th></th>\n",
              "      <th></th>\n",
              "      <th></th>\n",
              "      <th></th>\n",
              "    </tr>\n",
              "  </thead>\n",
              "  <tbody>\n",
              "    <tr>\n",
              "      <th>Andhra Pradesh</th>\n",
              "      <td>4.35</td>\n",
              "      <td>5.20</td>\n",
              "      <td>15.71</td>\n",
              "      <td>104977.0</td>\n",
              "    </tr>\n",
              "    <tr>\n",
              "      <th>Arunachal Pradesh</th>\n",
              "      <td>10.89</td>\n",
              "      <td>6.71</td>\n",
              "      <td>17.11</td>\n",
              "      <td>112718.0</td>\n",
              "    </tr>\n",
              "    <tr>\n",
              "      <th>Assam</th>\n",
              "      <td>7.44</td>\n",
              "      <td>10.51</td>\n",
              "      <td>27.06</td>\n",
              "      <td>60621.0</td>\n",
              "    </tr>\n",
              "    <tr>\n",
              "      <th>Bihar</th>\n",
              "      <td>2.09</td>\n",
              "      <td>4.08</td>\n",
              "      <td>25.90</td>\n",
              "      <td>33954.0</td>\n",
              "    </tr>\n",
              "    <tr>\n",
              "      <th>Chhatisgarh</th>\n",
              "      <td>1.42</td>\n",
              "      <td>5.85</td>\n",
              "      <td>21.26</td>\n",
              "      <td>NaN</td>\n",
              "    </tr>\n",
              "  </tbody>\n",
              "</table>\n",
              "</div>"
            ],
            "text/plain": [
              "                            Primary - 2014-2015  Upper Primary - 2014-2015  \\\n",
              "Level of Education - State                                                   \n",
              "Andhra Pradesh                             4.35                       5.20   \n",
              "Arunachal Pradesh                         10.89                       6.71   \n",
              "Assam                                      7.44                      10.51   \n",
              "Bihar                                      2.09                       4.08   \n",
              "Chhatisgarh                                1.42                       5.85   \n",
              "\n",
              "                            Secondary - 2014-2015  Per Capita GSDP (Rs.)  \n",
              "Level of Education - State                                                \n",
              "Andhra Pradesh                              15.71               104977.0  \n",
              "Arunachal Pradesh                           17.11               112718.0  \n",
              "Assam                                       27.06                60621.0  \n",
              "Bihar                                       25.90                33954.0  \n",
              "Chhatisgarh                                 21.26                    NaN  "
            ]
          },
          "metadata": {
            "tags": []
          },
          "execution_count": 30
        }
      ]
    },
    {
      "cell_type": "code",
      "metadata": {
        "id": "-nZh-XMEvBSU",
        "colab_type": "code",
        "colab": {},
        "outputId": "dd43c475-9bc4-4a4a-dedf-a1d4525e1786"
      },
      "source": [
        "fig=plt.figure(figsize=(8,8))\n",
        "plt.subplot(331)#scatter plot to show correlation between primary drop outs and GSDP\n",
        "sns.scatterplot(y=df_states_GDP['Per Capita GSDP (Rs.)'],x=df_edu_corr_na['Primary - 2014-2015'])\n",
        "plt.subplot(333)#scatter plot to show correlation between Upper Primary drop outs and GSDP\n",
        "sns.scatterplot(y=df_states_GDP['Per Capita GSDP (Rs.)'],x=df_edu_corr_na['Upper Primary - 2014-2015'])\n",
        "plt.show()"
      ],
      "execution_count": 0,
      "outputs": [
        {
          "output_type": "display_data",
          "data": {
            "image/png": "[encoded data removed]",
            "text/plain": [
              "<Figure size 576x576 with 2 Axes>"
            ]
          },
          "metadata": {
            "tags": [],
            "needs_background": "light"
          }
        }
      ]
    },
    {
      "cell_type": "code",
      "metadata": {
        "id": "veDB9TM8vBSX",
        "colab_type": "code",
        "colab": {},
        "outputId": "d77ee7c0-46e5-48ce-c6f9-064abe7fc265"
      },
      "source": [
        "fig=plt.figure(figsize=(8,8))\n",
        "plt.subplot(331)#scatter plot to show correlation between Secondary drop outs and GSDP\n",
        "sns.scatterplot(y=df_states_GDP['Per Capita GSDP (Rs.)'],x=df_edu_corr_na['Secondary - 2014-2015'])\n",
        "plt.show()"
      ],
      "execution_count": 0,
      "outputs": [
        {
          "output_type": "display_data",
          "data": {
            "image/png": "[encoded data removed]",
            "text/plain": [
              "<Figure size 576x576 with 1 Axes>"
            ]
          },
          "metadata": {
            "tags": [],
            "needs_background": "light"
          }
        }
      ]
    },
    {
      "cell_type": "code",
      "metadata": {
        "id": "FjojOmpRvBSa",
        "colab_type": "code",
        "colab": {},
        "outputId": "f877b089-8dbc-4948-c6a4-f40c99b546eb"
      },
      "source": [
        "corr_values=df_edu_corr.corr()\n",
        "corr_values.head() # dataframe of correlation coefficients between dropouts and Per capita GDP"
      ],
      "execution_count": 0,
      "outputs": [
        {
          "output_type": "execute_result",
          "data": {
            "text/html": [
              "<div>\n",
              "<style scoped>\n",
              "    .dataframe tbody tr th:only-of-type {\n",
              "        vertical-align: middle;\n",
              "    }\n",
              "\n",
              "    .dataframe tbody tr th {\n",
              "        vertical-align: top;\n",
              "    }\n",
              "\n",
              "    .dataframe thead th {\n",
              "        text-align: right;\n",
              "    }\n",
              "</style>\n",
              "<table border=\"1\" class=\"dataframe\">\n",
              "  <thead>\n",
              "    <tr style=\"text-align: right;\">\n",
              "      <th></th>\n",
              "      <th>Primary - 2014-2015</th>\n",
              "      <th>Upper Primary - 2014-2015</th>\n",
              "      <th>Secondary - 2014-2015</th>\n",
              "      <th>Per Capita GSDP (Rs.)</th>\n",
              "    </tr>\n",
              "  </thead>\n",
              "  <tbody>\n",
              "    <tr>\n",
              "      <th>Primary - 2014-2015</th>\n",
              "      <td>1.000000</td>\n",
              "      <td>0.496418</td>\n",
              "      <td>0.154760</td>\n",
              "      <td>-0.471800</td>\n",
              "    </tr>\n",
              "    <tr>\n",
              "      <th>Upper Primary - 2014-2015</th>\n",
              "      <td>0.496418</td>\n",
              "      <td>1.000000</td>\n",
              "      <td>0.603763</td>\n",
              "      <td>-0.531822</td>\n",
              "    </tr>\n",
              "    <tr>\n",
              "      <th>Secondary - 2014-2015</th>\n",
              "      <td>0.154760</td>\n",
              "      <td>0.603763</td>\n",
              "      <td>1.000000</td>\n",
              "      <td>-0.432304</td>\n",
              "    </tr>\n",
              "    <tr>\n",
              "      <th>Per Capita GSDP (Rs.)</th>\n",
              "      <td>-0.471800</td>\n",
              "      <td>-0.531822</td>\n",
              "      <td>-0.432304</td>\n",
              "      <td>1.000000</td>\n",
              "    </tr>\n",
              "  </tbody>\n",
              "</table>\n",
              "</div>"
            ],
            "text/plain": [
              "                           Primary - 2014-2015  Upper Primary - 2014-2015  \\\n",
              "Primary - 2014-2015                   1.000000                   0.496418   \n",
              "Upper Primary - 2014-2015             0.496418                   1.000000   \n",
              "Secondary - 2014-2015                 0.154760                   0.603763   \n",
              "Per Capita GSDP (Rs.)                -0.471800                  -0.531822   \n",
              "\n",
              "                           Secondary - 2014-2015  Per Capita GSDP (Rs.)  \n",
              "Primary - 2014-2015                     0.154760              -0.471800  \n",
              "Upper Primary - 2014-2015               0.603763              -0.531822  \n",
              "Secondary - 2014-2015                   1.000000              -0.432304  \n",
              "Per Capita GSDP (Rs.)                  -0.432304               1.000000  "
            ]
          },
          "metadata": {
            "tags": []
          },
          "execution_count": 33
        }
      ]
    },
    {
      "cell_type": "code",
      "metadata": {
        "id": "-7dh-mxUvBSd",
        "colab_type": "code",
        "colab": {},
        "outputId": "74bd21b5-97bb-4c4c-a623-d290f3654b9b"
      },
      "source": [
        "sns.heatmap(corr_values,annot=True)\n",
        "plt.show() # heat map to plot correlation coefficients"
      ],
      "execution_count": 0,
      "outputs": [
        {
          "output_type": "display_data",
          "data": {
            "image/png": "[encoded data removed]",
            "text/plain": [
              "<Figure size 432x288 with 2 Axes>"
            ]
          },
          "metadata": {
            "tags": [],
            "needs_background": "light"
          }
        }
      ]
    },
    {
      "cell_type": "markdown",
      "metadata": {
        "id": "p_-_s9VEvBSi",
        "colab_type": "text"
      },
      "source": [
        "From the analysis done, based on the correlation of education drop-outs and Per-Capita GDP for States following are the key points:<br>\n",
        "<i><b>Lack of Upper Primary Education and Secondary Education causes more adverse affects on the per Capita GDP of a state in comparision to drop out in Primary Education.Hence Upper Primary Education and Secondary Education are most necessary for good Per Capita GDP rate.</b></i>\n",
        "\n",
        " "
      ]
    }
  ]
}